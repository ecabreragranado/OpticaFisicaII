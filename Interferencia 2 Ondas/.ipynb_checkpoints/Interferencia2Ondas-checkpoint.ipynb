{
 "cells": [
  {
   "cell_type": "markdown",
   "metadata": {},
   "source": [
    "# Interferencia entre 2 ondas electromagnéticas"
   ]
  },
  {
   "cell_type": "markdown",
   "metadata": {},
   "source": [
    "### Repaso de lo estudiado en cursos anteriores"
   ]
  },
  {
   "cell_type": "markdown",
   "metadata": {},
   "source": [
    "En cursos anteriores se ha tratado de responder a la pregunta: ¿Qué perturbación encontramos en un punto P si llegan a él dos ondas diferentes?\n",
    "\n",
    "En particular, se ha estudiado el caso en el que las dos ondas son armónicas, del tipo:\n",
    "\n",
    "$$y_1(x_1,t) = A cos(k x_1 - \\omega t + \\phi_1) $$\n",
    "$$y_2(x_2,t) = A cos(k x_2 - \\omega t + \\phi_2) $$\n",
    "\n",
    "Donde se considera que las dos ondas poseen la misma amplitud para simplificar el resultado. \n",
    "\n",
    "El *principio de superposición* nos dice que la perturbación total es la suma de las perturbaciones\n",
    "provocadas por cada una de las ondas. Este principio es equivalente a decir que la ecuación de ondas\n",
    "es una ecuación lineal.\n",
    "\n",
    "Así pues, si llamamos $y_t(x_p,t)$ a la perturbación total:\n",
    "\n",
    "$$y_t(x,t) = A cos(k x_1 - \\omega t + \\phi_1) + A cos(k x_2 - \\omega t + \\phi_2)$$\n",
    "\n",
    "Teniendo en cuenta que $cos A + cos B = 2 cos(\\frac{A+B}{2})cos(\\frac{A-B}{2})$, \n",
    "\n",
    "$$y_t(x_p,t) = 2 A cos(k \\frac{x_1 - x_2}{2} + \\frac{\\phi_1 - \\phi_2}{2}) cos(k \\frac{x_1 + x_2}{2} - \\omega t+ \\frac{\\phi_1 + \\phi_2}{2})$$\n",
    "\n",
    "Si definimos $\\delta = k \\frac{x_1 - x_2}{2} + \\frac{\\phi_1 - \\phi_2}{2}$, el valor de esta variable determina la amplitud de\n",
    "la perturbación en el punto P. Este valor depende de la diferencia de caminos entre las dos ondas y del desfase inicial. Si\n",
    "$\\delta = 2 m \\pi$, con $m = 0, \\pm 1, \\pm 2...$ la amplitud total tomará el valor máximo $2 A$, mientras que si $\\delta = 2(m+1) \\pi$\n",
    "la amplitud será nula. \n",
    "\n",
    "Vemos que **la interferencia da lugar a una redistribución espacial de la energía**."
   ]
  },
  {
   "cell_type": "markdown",
   "metadata": {},
   "source": [
    "### Interferencia entre dos ondas electromagnéticas"
   ]
  },
  {
   "cell_type": "markdown",
   "metadata": {},
   "source": [
    "La interferencia anteriormente explicada es, por supuesto, válida para las ondas electromagnéticas. Sin embargo, en este caso hay que considerar algunas características particulares de este tipo de ondas que añaden nuevos efectos, \n",
    "\n",
    "* Las ondas electromagnéticas poseen **polarización**, es decir, tenemos que sumar vectores.\n",
    "\n",
    "* Lo que medimos no es la amplitud de la onda sino la irradiancia. Esta magnitud, aparte de ser proporcional al cuadrado de la \n",
    "amplitud, representa un promedio en un tiempo mucho mayor que el periodo de oscilación de los campos ($\\sim$ 1-10 fs).\n",
    "\n",
    "$$ I \\propto < \\vec{E}^2>_{\\tau} = \\frac{1}{\\tau} \\int_t^{t + \\tau} \\vec{E(t')}^2 dt' $$\n",
    "\n",
    "$$ I = \\epsilon_0 c n < \\vec{E}^2>_{\\tau} $$\n",
    "\n",
    "* Debido a que lo que vemos es este promedio, la fase entre los campos que interfieren no puede variar en el tiempo si queremos ver\n",
    "la interferencia. Esta característica se denomina *coherencia* y la veremos desarrollada más adelante en el curso.\n",
    "\n",
    "Vamos a describir a continuación la **interferencia de dos ondas electromagnéticas planas, polarizadas linealmente y monocromáticas**\n",
    "\n",
    "Los campos eléctricos asociados a cada onda serán:\n",
    "\n",
    "$$E_1(\\vec{r},t) = \\vec{E_{01}} cos(\\vec{k_1} \\vec{r} - \\omega t + \\phi_1) $$\n",
    "$$E_2(\\vec{r},t) = \\vec{E_{02}} cos(\\vec{k_2}\\vec{r} - \\omega t + \\phi_2) $$\n",
    "\n",
    "El campo total será $\\vec{E_t} = \\vec{E_1} + \\vec{E_2}$ , y la irradiancia total $I_t = \\epsilon_0 c n <\\vec{E_T}^2>$.\n",
    "\n",
    "$$I_t = \\epsilon_0 c n <(\\vec{E_1} + \\vec{E_2})^2> =  \\epsilon_0 c n <\\vec{E_1}^2> +  \\epsilon_0 c n <\\vec{E_1}^2> +  2 \\epsilon_0 c n <\\vec{E_1} \\cdot \\vec{E_2}>$$\n",
    "\n",
    "En los anteriores términos, podemos reconocer,\n",
    "\n",
    "$$I_1 = \\epsilon_0 c n <\\vec{E_1}^2>$$\n",
    "$$I_2 = \\epsilon_0 c n <\\vec{E_2}^2>$$\n",
    "\n",
    "mientras que el último término se conoce como término de interferencia. Si multiplicamos escalarmente ambos campos y realizamos\n",
    "la integral que nos da el promedio en el tiempo, considerando que $<sen^2(\\omega t)> = <cos^2(\\omega t)> =  1/2$ y además que\n",
    "$<sen(\\omega t)cos(\\omega t)> =  0$, podemos llegar al siguiente resultado:\n",
    "\n",
    "$$<\\vec{E_1} \\cdot \\vec{E_2}> = \\frac{1}{2}\\vec{E_{01}} \\cdot \\vec{E_{02}} cos[(\\vec{k_1} - \\vec{k_2})\\cdot \\vec{r} + (\\phi_1 - \\phi2)] $$\n",
    "\n",
    "En esta expresión se ha asumido además que las fases iniciales $\\phi_{12}$ no dependen del tiempo.\n",
    "\n",
    "De la anterior expresión podemos extraer varias características:\n",
    "\n",
    "+ El término de interferencia depende del *producto escalar* $\\vec{E_{01}} \\cdot \\vec{E_{02}}$.\n",
    "Es decir, **si las dos ondas se encuentran polarizadas perpendicularmente no interfieren**. Este producto\n",
    "escalar puede escribirse también con los vectores unitarios en las direcciones de $\\vec{E_{01}}$ y $\\vec{E_{02}}$, \n",
    "$\\vec{E_{01}} \\cdot \\vec{E_{02}} = E_{01}E_{02}(\\vec{e_{1}} \\cdot \\vec{e_{2}})$\n",
    "\n",
    "+ Depende del desfase relativo entre las dos ondas $\\delta = (\\vec{k_1} - \\vec{k_2})\\cdot \\vec{r} + (\\phi_1 - \\phi2)$.\n",
    "\n",
    "\n",
    "Así pues, podemos concluir que,\n",
    "\n",
    "$$I_t = I_1 + I_2 + 2 \\sqrt{I_1 I_2}(\\vec{e_{1}} \\cdot \\vec{e_{2}})cos(\\delta)$$\n",
    "\n",
    "En el caso en que $I_1 = I_2 = I_0$, $I_t = 2 I_0 ( 1 + cos(\\delta)) = 4 I_0 cos^2(\\frac{\\delta}{2})$\n",
    "\n",
    "Si definimos el contraste como, \n",
    "\n",
    "$$C = \\frac{I_{max} - I_{min}}{I_{max} + I_{min}}$$\n",
    "\n",
    "podemos reescribir la irradiancia total como, \n",
    "\n",
    "$$I_t = (I_1 + I_2)(1 + C cos(\\delta))$$\n",
    "\n",
    "Vamos a ver un ejemplo de la variación de la irradiancia total con el desfase entre las dos ondas."
   ]
  },
  {
   "cell_type": "code",
   "execution_count": 1,
   "metadata": {
    "collapsed": false
   },
   "outputs": [
    {
     "name": "stdout",
     "output_type": "stream",
     "text": [
      "\n",
      "Welcome to pylab, a matplotlib-based Python environment [backend: module://IPython.zmq.pylab.backend_inline].\n",
      "For more information, type 'help(pylab)'.\n"
     ]
    }
   ],
   "source": [
    "%pylab inline"
   ]
  },
  {
   "cell_type": "code",
   "execution_count": 3,
   "metadata": {
    "collapsed": false
   },
   "outputs": [
    {
     "data": {
      "image/png": "[encoded data removed]",
      "text/plain": [
       "<matplotlib.figure.Figure at 0xb8c236c>"
      ]
     },
     "metadata": {},
     "output_type": "display_data"
    }
   ],
   "source": [
    "delta = arange(0,6*pi,0.1)\n",
    "I_1 = 0.1\n",
    "I_2 = 1\n",
    "I_t = I_1 + I_2 + 2*sqrt(I_1*I_2)*cos(delta)\n",
    "plot(delta,I_t)\n",
    "xlabel(r'$\\delta$')\n",
    "ylabel(r'I$_t$');"
   ]
  },
  {
   "cell_type": "markdown",
   "metadata": {},
   "source": [
    "En el anterior código, \n",
    "\n",
    "* Cálcula el contraste de la interferencia.\n",
    "* Cambia los valores de $I_1$ y de $I_2$ y ejecuta la celda. ¿En qué cambia la figura?. ¿Cambia el contraste?\n",
    "* ¿Qué valores de $\\delta$ observas que dan máxima $I_t$ y cuáles mínima?\n"
   ]
  },
  {
   "cell_type": "markdown",
   "metadata": {},
   "source": [
    "Vemos que el desfase $\\delta$ es el que determina el valor de la irradiancia total. Hay que tener presente que viene definido, para el caso que estamos estudiando, por la expresión,\n",
    "\n",
    "$$ \\delta = (\\vec{k_1} - \\vec{k_2})\\cdot \\vec{r} + (\\phi_1 - \\phi_2) $$\n",
    "\n",
    "Vemos pues que, fijado el desfase inicial entre las dos ondas $\\phi_1 - \\phi_2$, $\\delta$ depende únicamente del punto en donde estemos midiendo $I_t$ y de la diferencia entre los\n",
    "vectores de onda asociados a cada una de las dos ondas que interfieren."
   ]
  },
  {
   "cell_type": "code",
   "execution_count": 29,
   "metadata": {
    "collapsed": false
   },
   "outputs": [
    {
     "data": {
      "text/html": [
       "<div style=\"position: relative; width: 300px; height: 232px;\"><a href=\"http://phet.colorado.edu/sims/wave-interference/wave-interference_en.jnlp\" style=\"text-decoration: none;\"><img src=\"http://phet.colorado.edu/sims/wave-interference/wave-interference-screenshot.png\" alt=\"Wave Interference\" style=\"border: none;\" width=\"300\" height=\"232\"/><div style=\"position: absolute; width: 200px; height: 80px; left: 50px; top: 76px; background-color: #FFF; opacity: 0.6; filter: alpha(opacity = 60);\"></div><table style=\"position: absolute; width: 200px; height: 80px; left: 50px; top: 76px;\"><tr><td style=\"text-align: center; color: #000; font-size: 24px; font-family: Arial,sans-serif;\">Click to Run</td></tr></table></a></div>"
      ],
      "text/plain": [
       "<IPython.core.display.HTML object at 0xf2a340c>"
      ]
     },
     "execution_count": 29,
     "metadata": {},
     "output_type": "execute_result"
    }
   ],
   "source": [
    "from IPython.display import HTML\n",
    "HTML('<div style=\"position: relative; width: 300px; height: 232px;\"><a href=\"http://phet.colorado.edu/sims/wave-interference/wave-interference_en.jnlp\" style=\"text-decoration: none;\"><img src=\"http://phet.colorado.edu/sims/wave-interference/wave-interference-screenshot.png\" alt=\"Wave Interference\" style=\"border: none;\" width=\"300\" height=\"232\"/><div style=\"position: absolute; width: 200px; height: 80px; left: 50px; top: 76px; background-color: #FFF; opacity: 0.6; filter: alpha(opacity = 60);\"></div><table style=\"position: absolute; width: 200px; height: 80px; left: 50px; top: 76px;\"><tr><td style=\"text-align: center; color: #000; font-size: 24px; font-family: Arial,sans-serif;\">Click to Run</td></tr></table></a></div>')"
   ]
  }
 ],
 "metadata": {
  "kernelspec": {
   "display_name": "Python 2 (SageMath)",
   "language": "python",
   "name": "python2"
  },
  "language_info": {
   "codemirror_mode": {
    "name": "ipython",
    "version": 2
   },
   "file_extension": ".py",
   "mimetype": "text/x-python",
   "name": "python",
   "nbconvert_exporter": "python",
   "pygments_lexer": "ipython2",
   "version": "2.7.10"
  },
  "name": "Interferencia2Ondas.ipynb"
 },
 "nbformat": 4,
 "nbformat_minor": 0
}

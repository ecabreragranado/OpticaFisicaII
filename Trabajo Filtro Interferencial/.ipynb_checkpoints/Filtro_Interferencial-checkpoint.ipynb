{
 "cells": [
  {
   "cell_type": "markdown",
   "metadata": {},
   "source": [
    "# Selección de un filtro interferencial para evitar daño ocular"
   ]
  },
  {
   "cell_type": "markdown",
   "metadata": {},
   "source": [
    "#####  Consultar el manual de uso de los cuadernos interactivos (notebooks) que se encuentra disponible en  el Campus Virtual"
   ]
  },
  {
   "cell_type": "markdown",
   "metadata": {},
   "source": [
    "### Grupo de trabajo"
   ]
  },
  {
   "cell_type": "markdown",
   "metadata": {},
   "source": [
    "En esta celda los integrantes del grupo: *modificar el texto*\n",
    "\n",
    "* Juan Antonio Fernández \n",
    "* Alberto Pérez\n",
    "* Juan \n",
    "\n",
    "Incluir las direcciones de correo electrónico"
   ]
  },
  {
   "cell_type": "markdown",
   "metadata": {},
   "source": [
    "### Introducción"
   ]
  },
  {
   "cell_type": "markdown",
   "metadata": {},
   "source": [
    "El trabajo consiste en encontrar un filtro interferencial comercial que sirva para \n",
    "proteger el ojo de la radiación visible de un puntero láser de alta potencia. El trabajo\n",
    "se divide en las siguientes tareas:"
   ]
  },
  {
   "cell_type": "markdown",
   "metadata": {},
   "source": [
    "### <div class='alert'> Tarea 1. Exposición máxima permisible (MPE). </div>"
   ]
  },
  {
   "cell_type": "markdown",
   "metadata": {},
   "source": [
    "La exposici\u0013óm m\u0013áxima permisible (MPE *maximum permissible exposure*) es la m\u0013áxima densidad de potencia \n",
    "o de energí\u0013\u0010a (W/cm$^2$ o J/cm$^2$) de un haz de luz que puede alcanzar el ojo humano sin producir daño. \n",
    "La MPE se mide en la c\u0013órnea, y depende de la longitud de onda de la radiaci\u0013ón y del tiempo de exposici\u0013ón. \n",
    "En la siguiente fi\f",
    "gura se muestra la MPE en la córnea (en unidades de irradiancia (W/cm$^2$)) en función \n",
    "del tiempo de exposición para distintos rangos del espectro electromagnético.\n",
    "Figura de http://en.wikipedia.org/wiki/Laser_safety "
   ]
  },
  {
   "cell_type": "code",
   "execution_count": 14,
   "metadata": {
    "collapsed": false
   },
   "outputs": [
    {
     "data": {
      "text/html": [
       "<img src=\"http://upload.wikimedia.org/wikipedia/commons/thumb/2/28/IEC60825_MPE_W_s.png/640px-IEC60825_MPE_W_s.png\"/>"
      ],
      "text/plain": [
       "<IPython.core.display.Image object>"
      ]
     },
     "execution_count": 14,
     "metadata": {},
     "output_type": "execute_result"
    }
   ],
   "source": [
    "from IPython.display import Image, display\n",
    "Image(url=\"http://upload.wikimedia.org/wikipedia/commons/thumb/2/28/IEC60825_MPE_W_s.png/640px-IEC60825_MPE_W_s.png\")"
   ]
  },
  {
   "cell_type": "markdown",
   "metadata": {},
   "source": [
    "### Tarea 1 (a). Irradiancia máxima."
   ]
  },
  {
   "cell_type": "markdown",
   "metadata": {},
   "source": [
    "Como estamos considerando el haz láser de un puntero que emite\n",
    "en el visible, como tiempo de exposición emplearemos el tiempo que\n",
    "se tarda en cerrar el párpado. Así con este tiempo de exposición\n",
    "estimar de la gráfica la irradiancia máxima que puede alcanzar el\n",
    "ojo. \n",
    "\n",
    "Escribir el tiempo de exposición empleado y el correspondiente valor de la irradiancia.\n",
    "\n",
    "* Tiempo de exposición (parpadeo) = s\n",
    "\n",
    "* Irradiancia máxima permisible =   W/cm$^2$"
   ]
  },
  {
   "cell_type": "markdown",
   "metadata": {},
   "source": [
    "### Tarea 1 (b). Potencia máxima."
   ]
  },
  {
   "cell_type": "markdown",
   "metadata": {},
   "source": [
    "Vamos a considerar que el haz que alcanza nuestro ojo está colimado\n",
    "con un tamaño equivalente al de nuestra pupila. Empleando dicho\n",
    "tamaño calcular la potencia máxima que puede alcanzar nuestro ojo\n",
    "sin provocar daño.\n",
    "\n",
    "Escribir el tamaño de la pupila considerado, las operaciones y el resultado final de la potencia (en mW)\n",
    "\n",
    "* Diámetro o radio de la pupila  = mm\n",
    "\n",
    "* Cálculos intermedios\n",
    "\n",
    "* Potencia máxima permisible = mW"
   ]
  },
  {
   "cell_type": "markdown",
   "metadata": {},
   "source": [
    "### <div class='alert'> Tarea 2. Elección del puntero láser. </div>"
   ]
  },
  {
   "cell_type": "markdown",
   "metadata": {},
   "source": [
    "Buscar en internet información sobre un\n",
    "puntero láser visible que sea de alta potencia.\n",
    "Verifi\f",
    "car que dicho puntero l\u0013áser puede provocar daño ocular (teniendo en cuenta el resultado de la **Tarea 1 (b)**)\n",
    "\n",
    "Escribir aquí las características técnicas de dicho láser \n",
    "\n",
    "* potencia\n",
    "* longitud de onda \n",
    "* precio\n",
    "* otras características\n",
    "* página web http://www.ucm.es\n"
   ]
  },
  {
   "cell_type": "markdown",
   "metadata": {},
   "source": [
    "### <div class='alert'> Tarea 3. Elección del filtro interferencial. </div>"
   ]
  },
  {
   "cell_type": "markdown",
   "metadata": {},
   "source": [
    "Vamos a buscar en internet un filtro interferencial\n",
    "comercial que permita evitar el riesgo de daño ocular para el\n",
    "puntero láser seleccionado. Se tratará de un filtro que bloquee \n",
    "la longitud de onda del puntero láser."
   ]
  },
  {
   "cell_type": "markdown",
   "metadata": {},
   "source": [
    "### Tarea 3 (a). Busqueda e información del filtro interferencial"
   ]
  },
  {
   "cell_type": "markdown",
   "metadata": {},
   "source": [
    "Vamos a emplear la información accesible en la casa **Semrock** ( http://www.semrock.com/filters.aspx )\n",
    "\n",
    "Seleccionar en esta página web un filtro adecuado.  Pinchar sobre cada filtro (sobre la curva de transmitancia, \n",
    "sobre el *Part Number*, o sobre *Show Product Detail*) para obtener más información. Escribir aquí \n",
    "las características más relevantes del filtro seleccionado: \n",
    "\n",
    "* transmitancia T o densidad óptica OD \n",
    "* rango de longitudes de onda\n",
    "* precio\n",
    "* página web del filtro seleccionado (cambiar la siguiente dirección) http://www.semrock.com/FilterDetails.aspx?id=LP02-224R-25\n"
   ]
  },
  {
   "cell_type": "markdown",
   "metadata": {},
   "source": [
    "### Tarea 3 (b). Verificación del filtro"
   ]
  },
  {
   "cell_type": "markdown",
   "metadata": {},
   "source": [
    "Empleando el dato de la transmitancia (T) a la longitud de onda del\n",
    "puntero láser comprobar que dicho filtro evitará el riesgo de\n",
    "lesión.\n",
    "\n",
    "Para ello vamos a usar los datos de la transmitancia del filtro seleccionado\n",
    "que aparecen en la página web de Semrock. Para cargar dichos datos en nuestro notebook seguimos los siguientes pasos:\n",
    "\n",
    "* Pinchar con el ratón en la página web del filtro seleccionado sobre **ASCII Data**, que se encuentra en la leyenda de la figura (derecha).\n",
    "\n",
    "![ejemplo_filtro](files/ejemplofiltro.png)\n",
    "\n",
    "* Copiar la dirección de la página web que se abre (esta página muestra los datos experimentales de la transmitancia)\n",
    "\n",
    "* Pegar esa dirección en la siguiente celda de código, detrás de `filename = ` \n",
    "    \n",
    "    (Nota: asegurarse de que la dirección queda entre las comillas)\n",
    "    \n",
    "\n",
    "En la siguiente celda de código se representa la transmitancia del filtro en escala logarítmica \n",
    "en función de la longitud de onda (en nm). "
   ]
  },
  {
   "cell_type": "code",
   "execution_count": 20,
   "metadata": {
    "collapsed": false
   },
   "outputs": [
    {
     "name": "stdout",
     "output_type": "stream",
     "text": [
      "Populating the interactive namespace from numpy and matplotlib\n"
     ]
    },
    {
     "ename": "IOError",
     "evalue": "http://www.semrock.com/_ProductData/Spectra/NF01-229_244_DesignSpectrum.txt not found.",
     "output_type": "error",
     "traceback": [
      "\u001b[1;31m---------------------------------------------------------------------------\u001b[0m",
      "\u001b[1;31mIOError\u001b[0m                                   Traceback (most recent call last)",
      "\u001b[1;32m<ipython-input-20-38e9e6a000f5>\u001b[0m in \u001b[0;36m<module>\u001b[1;34m()\u001b[0m\n\u001b[0;32m      9\u001b[0m \u001b[1;33m\u001b[0m\u001b[0m\n\u001b[0;32m     10\u001b[0m \u001b[0mget_ipython\u001b[0m\u001b[1;33m(\u001b[0m\u001b[1;33m)\u001b[0m\u001b[1;33m.\u001b[0m\u001b[0mmagic\u001b[0m\u001b[1;33m(\u001b[0m\u001b[1;34mu'pylab inline'\u001b[0m\u001b[1;33m)\u001b[0m\u001b[1;33m\u001b[0m\u001b[0m\n\u001b[1;32m---> 11\u001b[1;33m \u001b[0mdata\u001b[0m\u001b[1;33m=\u001b[0m\u001b[0mgenfromtxt\u001b[0m\u001b[1;33m(\u001b[0m\u001b[0mfilename\u001b[0m\u001b[1;33m)\u001b[0m\u001b[1;31m#,dtype=float,skip_header=4) # Carga los datos\u001b[0m\u001b[1;33m\u001b[0m\u001b[0m\n\u001b[0m\u001b[0;32m     12\u001b[0m \u001b[0mlongitud_de_onda\u001b[0m\u001b[1;33m=\u001b[0m\u001b[0mdata\u001b[0m\u001b[1;33m[\u001b[0m\u001b[1;33m:\u001b[0m\u001b[1;33m,\u001b[0m\u001b[1;36m0\u001b[0m\u001b[1;33m]\u001b[0m\u001b[1;33m\u001b[0m\u001b[0m\n\u001b[0;32m     13\u001b[0m \u001b[0mtransmitancia\u001b[0m\u001b[1;33m=\u001b[0m\u001b[0mdata\u001b[0m\u001b[1;33m[\u001b[0m\u001b[1;33m:\u001b[0m\u001b[1;33m,\u001b[0m\u001b[1;36m1\u001b[0m\u001b[1;33m]\u001b[0m\u001b[1;33m\u001b[0m\u001b[0m\n",
      "\u001b[1;32m/usr/local/sage/sage-6.5/local/lib/python2.7/site-packages/numpy/lib/npyio.py\u001b[0m in \u001b[0;36mgenfromtxt\u001b[1;34m(fname, dtype, comments, delimiter, skiprows, skip_header, skip_footer, converters, missing, missing_values, filling_values, usecols, names, excludelist, deletechars, replace_space, autostrip, case_sensitive, defaultfmt, unpack, usemask, loose, invalid_raise)\u001b[0m\n\u001b[0;32m   1342\u001b[0m         \u001b[1;32mif\u001b[0m \u001b[0misinstance\u001b[0m\u001b[1;33m(\u001b[0m\u001b[0mfname\u001b[0m\u001b[1;33m,\u001b[0m \u001b[0mbasestring\u001b[0m\u001b[1;33m)\u001b[0m\u001b[1;33m:\u001b[0m\u001b[1;33m\u001b[0m\u001b[0m\n\u001b[0;32m   1343\u001b[0m             \u001b[1;32mif\u001b[0m \u001b[0msys\u001b[0m\u001b[1;33m.\u001b[0m\u001b[0mversion_info\u001b[0m\u001b[1;33m[\u001b[0m\u001b[1;36m0\u001b[0m\u001b[1;33m]\u001b[0m \u001b[1;33m==\u001b[0m \u001b[1;36m2\u001b[0m\u001b[1;33m:\u001b[0m\u001b[1;33m\u001b[0m\u001b[0m\n\u001b[1;32m-> 1344\u001b[1;33m                 \u001b[0mfhd\u001b[0m \u001b[1;33m=\u001b[0m \u001b[0miter\u001b[0m\u001b[1;33m(\u001b[0m\u001b[0mnp\u001b[0m\u001b[1;33m.\u001b[0m\u001b[0mlib\u001b[0m\u001b[1;33m.\u001b[0m\u001b[0m_datasource\u001b[0m\u001b[1;33m.\u001b[0m\u001b[0mopen\u001b[0m\u001b[1;33m(\u001b[0m\u001b[0mfname\u001b[0m\u001b[1;33m,\u001b[0m \u001b[1;34m'rbU'\u001b[0m\u001b[1;33m)\u001b[0m\u001b[1;33m)\u001b[0m\u001b[1;33m\u001b[0m\u001b[0m\n\u001b[0m\u001b[0;32m   1345\u001b[0m             \u001b[1;32melse\u001b[0m\u001b[1;33m:\u001b[0m\u001b[1;33m\u001b[0m\u001b[0m\n\u001b[0;32m   1346\u001b[0m                 \u001b[0mfhd\u001b[0m \u001b[1;33m=\u001b[0m \u001b[0miter\u001b[0m\u001b[1;33m(\u001b[0m\u001b[0mnp\u001b[0m\u001b[1;33m.\u001b[0m\u001b[0mlib\u001b[0m\u001b[1;33m.\u001b[0m\u001b[0m_datasource\u001b[0m\u001b[1;33m.\u001b[0m\u001b[0mopen\u001b[0m\u001b[1;33m(\u001b[0m\u001b[0mfname\u001b[0m\u001b[1;33m,\u001b[0m \u001b[1;34m'rb'\u001b[0m\u001b[1;33m)\u001b[0m\u001b[1;33m)\u001b[0m\u001b[1;33m\u001b[0m\u001b[0m\n",
      "\u001b[1;32m/usr/local/sage/sage-6.5/local/lib/python2.7/site-packages/numpy/lib/_datasource.py\u001b[0m in \u001b[0;36mopen\u001b[1;34m(path, mode, destpath)\u001b[0m\n\u001b[0;32m    145\u001b[0m \u001b[1;33m\u001b[0m\u001b[0m\n\u001b[0;32m    146\u001b[0m     \u001b[0mds\u001b[0m \u001b[1;33m=\u001b[0m \u001b[0mDataSource\u001b[0m\u001b[1;33m(\u001b[0m\u001b[0mdestpath\u001b[0m\u001b[1;33m)\u001b[0m\u001b[1;33m\u001b[0m\u001b[0m\n\u001b[1;32m--> 147\u001b[1;33m     \u001b[1;32mreturn\u001b[0m \u001b[0mds\u001b[0m\u001b[1;33m.\u001b[0m\u001b[0mopen\u001b[0m\u001b[1;33m(\u001b[0m\u001b[0mpath\u001b[0m\u001b[1;33m,\u001b[0m \u001b[0mmode\u001b[0m\u001b[1;33m)\u001b[0m\u001b[1;33m\u001b[0m\u001b[0m\n\u001b[0m\u001b[0;32m    148\u001b[0m \u001b[1;33m\u001b[0m\u001b[0m\n\u001b[0;32m    149\u001b[0m \u001b[1;33m\u001b[0m\u001b[0m\n",
      "\u001b[1;32m/usr/local/sage/sage-6.5/local/lib/python2.7/site-packages/numpy/lib/_datasource.py\u001b[0m in \u001b[0;36mopen\u001b[1;34m(self, path, mode)\u001b[0m\n\u001b[0;32m    494\u001b[0m             \u001b[1;32mreturn\u001b[0m \u001b[0m_file_openers\u001b[0m\u001b[1;33m[\u001b[0m\u001b[0mext\u001b[0m\u001b[1;33m]\u001b[0m\u001b[1;33m(\u001b[0m\u001b[0mfound\u001b[0m\u001b[1;33m,\u001b[0m \u001b[0mmode\u001b[0m\u001b[1;33m=\u001b[0m\u001b[0mmode\u001b[0m\u001b[1;33m)\u001b[0m\u001b[1;33m\u001b[0m\u001b[0m\n\u001b[0;32m    495\u001b[0m         \u001b[1;32melse\u001b[0m\u001b[1;33m:\u001b[0m\u001b[1;33m\u001b[0m\u001b[0m\n\u001b[1;32m--> 496\u001b[1;33m             \u001b[1;32mraise\u001b[0m \u001b[0mIOError\u001b[0m\u001b[1;33m(\u001b[0m\u001b[1;34m\"%s not found.\"\u001b[0m \u001b[1;33m%\u001b[0m \u001b[0mpath\u001b[0m\u001b[1;33m)\u001b[0m\u001b[1;33m\u001b[0m\u001b[0m\n\u001b[0m\u001b[0;32m    497\u001b[0m \u001b[1;33m\u001b[0m\u001b[0m\n\u001b[0;32m    498\u001b[0m \u001b[1;33m\u001b[0m\u001b[0m\n",
      "\u001b[1;31mIOError\u001b[0m: http://www.semrock.com/_ProductData/Spectra/NF01-229_244_DesignSpectrum.txt not found."
     ]
    }
   ],
   "source": [
    "# MODIFICAR LA DIRECCIÓN DE LA PÁGINA WEB. LUEGO EJECUTAR\n",
    "########################################################\n",
    "\n",
    "filename = \"http://www.semrock.com/_ProductData/Spectra/NF01-229_244_DesignSpectrum.txt\"\n",
    "                    # asegurarse de que la dirección web queda entre comillas\n",
    "\n",
    "# DESDE AQUÍ NO TOCAR \n",
    "##############################################################################################################################\n",
    "\n",
    "%pylab inline\n",
    "data=genfromtxt(filename,dtype=float,skip_header=4) # Carga los datos \n",
    "longitud_de_onda=data[:,0]\n",
    "transmitancia=data[:,1]\n",
    "\n",
    "print \"Datos cargados OK\""
   ]
  },
  {
   "cell_type": "code",
   "execution_count": 5,
   "metadata": {
    "collapsed": false
   },
   "outputs": [
    {
     "ename": "TypeError",
     "evalue": "'module' object is not callable",
     "output_type": "error",
     "traceback": [
      "\u001b[1;31m---------------------------------------------------------------------------\u001b[0m",
      "\u001b[1;31mTypeError\u001b[0m                                 Traceback (most recent call last)",
      "\u001b[1;32m<ipython-input-5-e39f7e3add97>\u001b[0m in \u001b[0;36m<module>\u001b[1;34m()\u001b[0m\n\u001b[0;32m      1\u001b[0m \u001b[1;32mimport\u001b[0m \u001b[0mplotly\u001b[0m\u001b[1;33m\u001b[0m\u001b[0m\n\u001b[0;32m      2\u001b[0m \u001b[1;33m\u001b[0m\u001b[0m\n\u001b[1;32m----> 3\u001b[1;33m \u001b[0mpy\u001b[0m \u001b[1;33m=\u001b[0m \u001b[0mplotly\u001b[0m\u001b[1;33m.\u001b[0m\u001b[0mplotly\u001b[0m\u001b[1;33m(\u001b[0m\u001b[1;34m'ofii'\u001b[0m\u001b[1;33m,\u001b[0m\u001b[1;34m'i6jc6xsecb'\u001b[0m\u001b[1;33m)\u001b[0m\u001b[1;33m\u001b[0m\u001b[0m\n\u001b[0m\u001b[0;32m      4\u001b[0m \u001b[0mdata\u001b[0m \u001b[1;33m=\u001b[0m \u001b[1;33m[\u001b[0m\u001b[1;33m{\u001b[0m\u001b[1;34m'x'\u001b[0m\u001b[1;33m:\u001b[0m \u001b[0mlongitud_de_onda\u001b[0m\u001b[1;33m,\u001b[0m \u001b[1;34m'y'\u001b[0m\u001b[1;33m:\u001b[0m\u001b[0mtransmitancia\u001b[0m\u001b[1;33m}\u001b[0m\u001b[1;33m]\u001b[0m\u001b[1;33m\u001b[0m\u001b[0m\n\u001b[0;32m      5\u001b[0m \u001b[0mlayout\u001b[0m\u001b[1;33m=\u001b[0m\u001b[1;33m{\u001b[0m\u001b[1;34m'title'\u001b[0m\u001b[1;33m:\u001b[0m \u001b[1;34m'Transmitancia Filtro Escogido'\u001b[0m\u001b[1;33m,\u001b[0m\u001b[1;34m'yaxis'\u001b[0m\u001b[1;33m:\u001b[0m\u001b[1;33m{\u001b[0m\u001b[1;34m'type'\u001b[0m\u001b[1;33m:\u001b[0m\u001b[1;34m'log'\u001b[0m\u001b[1;33m}\u001b[0m\u001b[1;33m}\u001b[0m\u001b[1;33m\u001b[0m\u001b[0m\n",
      "\u001b[1;31mTypeError\u001b[0m: 'module' object is not callable"
     ]
    }
   ],
   "source": [
    "import plotly\n",
    "\n",
    "py = plotly.plotly('ofii','i6jc6xsecb')\n",
    "data = [{'x': longitud_de_onda, 'y':transmitancia}]\n",
    "layout={'title': 'Transmitancia Filtro Escogido','yaxis':{'type':'log'}}\n",
    "py.iplot(data,layout=layout,fileopt='overwrite')\n"
   ]
  },
  {
   "cell_type": "markdown",
   "metadata": {},
   "source": [
    "Esta gráfica nos permite obtener el valor de la transmitancia a la longitud de onda de nuestro \n",
    "puntero láser. Explora la curva moviendo el ratón sobre ella y haciendo zoom utilizando los\n",
    "controles que aparecen en la parte superior derecha de la figura. Localiza la longitud de onda\n",
    "del puntero láser seleccionado y apunta el valor de la transmitancia en esta celda.\n",
    "\n",
    "* **$\\lambda$** = \n",
    "\n",
    "* **T ** = \n",
    "\n",
    "\n",
    "Empleando el valor de la transmitancia del filtro a la longitud de onda del puntero láser verificar \n",
    "que el filtro evitará el riesgo de daño ocular. Escribir a continuación la estimación realizada.\n"
   ]
  },
  {
   "cell_type": "code",
   "execution_count": null,
   "metadata": {
    "collapsed": true
   },
   "outputs": [],
   "source": []
  }
 ],
 "metadata": {
  "kernelspec": {
   "display_name": "Python 2",
   "language": "python",
   "name": "python2"
  },
  "language_info": {
   "codemirror_mode": {
    "name": "ipython",
    "version": 2
   },
   "file_extension": ".py",
   "mimetype": "text/x-python",
   "name": "python",
   "nbconvert_exporter": "python",
   "pygments_lexer": "ipython2",
   "version": "2.7.8"
  },
  "name": "Filtro_Interferencial.ipynb"
 },
 "nbformat": 4,
 "nbformat_minor": 0
}

{
 "cells": [
  {
   "cell_type": "markdown",
   "metadata": {
    "collapsed": false
   },
   "source": [
    "# Introduccion\n",
    "\n",
    "Hemos visto como la difraccion determina que la irradiancia en una pantalla situada tras una abertura, no tendra la distribucion espacial fijada por la sombra geometrica de dicha abertura. El haz se abre y presenta maximos y minimos en la pantalla. Esta observacion se puede interpretar aplicando el principio de Huygens-Fresnel, es decir, calculando la interferencia de las ondas secundarias emitidas por cada punto del frente de ondas que la abertura deja pasar. \n",
    "\n",
    "Tambien hemos visto anteriormente que en el caso particular de una abertura circular, la distribucion de irradiancia en la pantalla se conoce como mancha de Airy, caracterizada por un maximo central en donde se distribuye la mayor parte de la energia y lobulos laterales cada vez menos intensos. Debido a este perfil, el tamagno de la mancha de Airy se suele especificar dando el diametro (o radio) del primer anillo oscuro, o bien, el angulo subtendido con el eje optico por este minimo desde la abertura si se expresa el tamagno en unidades angulares.\n",
    "\n",
    "Este valor del angulo que da la posicion del primer minimo de la mancha de Airy sigue la expresion, \n",
    "\n",
    "$$ \\theta_1 = \\frac{1.22 \\lambda}{\\Phi}$$\n",
    "\n",
    "donde $\\lambda$ es la longitud de onda que ilumina el sistema y $\\Phi$ es el diametro de la abertura.\n",
    "\n",
    "![Funciion de Airy](640px-Airy_pattern_scaled.svg.png)\n",
    "\n",
    "----------\n",
    "\n",
    "Esta distribucion de irradiancia provocada por una abertura circular toma gran importancia al introducir los efectos de la difraccion en la formacion de la imagen de un sistema optico. Efectivamente, todo sistema optico posee una dimension transversal finita, normalmente dada por el tamagno de las lentes o diafragmas incluidos. Este tamagno finito provoca que el haz procedente de un objeto del cual se quiera formar su imagen sea cortado en su entrada al sistema, apareciendo por tanto los efectos de la difraccion comentados en este tema. El resultado es que la prediccion realizada por la Optica Geometrica para un sistema optico perfecto por la cual la imagen de un punto es un punto deja de tener validez por la difraccion. Al incluir sus efectos, la imagen de un punto sera una mancha de difraccion. Por otro lado, y dado que la mayoria de las lentes y diafragmas utilizados tienen forma circular, esta mancha sera la mancha de Airy comentada anteriormente. \n",
    "\n"
   ]
  },
  {
   "cell_type": "markdown",
   "metadata": {
    "collapsed": false
   },
   "source": [
    "# Limitacion en la resolucion de dos objetos puntuales cercanos\n",
    "\n",
    "Podemos comprender facilmente que, si la imagen de un punto no es otro punto debido a la difraccion, sino que es una distribucion espacial de irradiancia con una cierta extension, las imagenes de dos puntos objetos cercanos pueden llegar a solaparse entre si en el plano imagen, resultando en una mancha un poco mas grande. De este modo, podemos llegar a no ser capaces de distinguir las imagenes de esos dos puntos cercanos. Dicho de otro modo, el hecho de que la difraccion imponga un cierto tamagno en la imagen de un punto objeto dada por un sistema optico, limita la capacidad del sistema de resolver dos puntos objeto cercanos.\n",
    "\n",
    "\n",
    "## Criterio de Rayleigh\n",
    "\n",
    "Aunque distinguir entre dos imagenes superpuestas puede ser algo subjetivo, se ha desarrollado un criterio para discriminar si dos imagenes se encuentran lo suficientemente separadas entre si para que podamos decir que el sistema resuelve esos dos puntos. Este criterio se denomina **Criterio de Rayleigh** y segun el *dos imagenes se encuentran resueltas si, al menos, la separacion entre los maximos de las manchas de Airy es igual al radio del primer minimo*.\n",
    "\n",
    "El siguiente codigo calcula las imagenes dadas por una lente de dos puntos objetos cercanos. La distancia entre dichos puntos, la longitud de onda, la focal de la lente o la distancia a la lente se pueden modificar. En la figura, se muestra un perfil de la irradiancia en el plano imagen junto a la referencia que marca la separacion impuesta por el criterio de Rayleigh para que dos puntos esten resueltos. Tambien se muestra a la derecha la imagen 2D de lo que observariamos en la pantalla."
   ]
  },
  {
   "cell_type": "code",
   "execution_count": 23,
   "metadata": {
    "collapsed": false
   },
   "outputs": [
    {
     "data": {
      "image/png": "[encoded data removed]"
     },
     "metadata": {
      "image/png": {
       "height": 481,
       "width": 1063
      }
     }
    }
   ],
   "source": [
    "import numpy as np\n",
    "import matplotlib.pyplot as plt\n",
    "%matplotlib inline\n",
    "from scipy.special import j1\n",
    "\n",
    "#Parámetros\n",
    "############\n",
    "fprima = 300 # focal de la lente\n",
    "Da = 2 # mm\n",
    "Dobj = 3000 # distancia desde la lente a los dos puntos objetos\n",
    "d = 1 # separacion entre los puntos objetos\n",
    "Lambda = 5.5e-4\n",
    "k = 2*np.pi/Lambda\n",
    "################\n",
    "# Calculos\n",
    "###############\n",
    "\n",
    "theta = np.arctan(d/Dobj)\n",
    "x0 = sprima*(d/Dobj)\n",
    "x = np.linspace(-2*x0,2*x0,350) # distancia al eje en la pantalla\n",
    "sprima = (-Dobj*fprima)/(-Dobj + fprima) # distancia lente-pantalla\n",
    "\n",
    "\n",
    "\n",
    "#Corte en 1D\n",
    "I0 = 1 #mW/cm^2\n",
    "Icirc1 = I0*(j1(k*0.5*Da*(x-x0/2)/sprima)/(k*0.5*Da*(x-x0/2)/sprima))**2\n",
    "Icirc2 = I0*(j1(k*0.5*Da*(x+x0/2)/sprima)/(k*0.5*Da*(x+x0/2)/sprima))**2\n",
    "Icirc = Icirc1 + Icirc2\n",
    "rayleigh = 1.22*sprima*Lambda/Da - x0/2\n",
    "fig,ax = plt.subplots(1,2,figsize=(18,8),frameon=False)\n",
    "\n",
    "ax[0].plot(x,Icirc1,label='Imagen 1')\n",
    "ax[0].plot(x,Icirc2,label='Imagen 2')\n",
    "ax[0].plot(x,Icirc,label='Total')\n",
    "ax[0].vlines(rayleigh,0,np.amax(Icirc),label='Separ min Rayleigh')\n",
    "ax[0].spines['right'].set_visible(False)\n",
    "ax[0].spines['top'].set_visible(False)\n",
    "\n",
    "ax[0].legend()\n",
    "ax[0].set_xlabel(\"x (mm)\")\n",
    "ax[0].set_ylabel(\"I (u.a.)\");\n",
    "\n",
    "\n",
    "#En 2D\n",
    "[X,Y] = np.meshgrid(x,x)\n",
    "R1 = np.sqrt((X+x0/2)**2 + Y**2)\n",
    "R2 = np.sqrt((X-x0/2)**2 + Y**2)\n",
    "Icirc1 =  I0*(j1(k*0.5*Da*R1/sprima)/(k*0.5*Da*R1/sprima))**2\n",
    "Icirc2 =  I0*(j1(k*0.5*Da*R2/sprima)/(k*0.5*Da*R2/sprima))**2\n",
    "Icirctot = Icirc1 + Icirc2\n",
    "ax[1].pcolormesh(x,x,Icirctot,cmap='hot')\n",
    "ax[1].set_xlabel('x (mm)')\n",
    "ax[1].set_ylabel('y (mm)');"
   ]
  },
  {
   "cell_type": "markdown",
   "metadata": {
    "collapsed": false
   },
   "source": [
    "# Cuestiones\n",
    "\n",
    "Modificar los parametros del codigo anterior, volviendo a ejecutar la celda para contestar a las siguientes cuestiones:\n",
    "\n",
    "1. Modificar la separacion entre los puntos objetos para observar una situacion en la que los puntos no sean resueltos por la lente y otra en la que si lo sean.\n",
    "\n",
    "2. Si partimos de una situacion en la que no se resuelvan dos puntos objetos, como tendriamos que modificar $\\lambda$ para conseguir que si se resolvieran?\n",
    "\n",
    "3. Podriamos conseguir pasar de una situacion en la que no se resuelvan dos puntos objeto a otra en la que si se resuelvan variando unicamente la focal de lente\n",
    "\n",
    "4. Como cambiaria el codigo si en vez de una lente en aire consideraramos que detras de la lente se encuentra un medio con un cierto indice de refraccion?"
   ]
  }
 ],
 "metadata": {
  "kernelspec": {
   "display_name": "Python 3 (Anaconda)",
   "language": "python",
   "name": "anaconda3"
  },
  "language_info": {
   "codemirror_mode": {
    "name": "ipython",
    "version": 3
   },
   "file_extension": ".py",
   "mimetype": "text/x-python",
   "name": "python",
   "nbconvert_exporter": "python",
   "pygments_lexer": "ipython3",
   "version": "3.5.3"
  }
 },
 "nbformat": 4,
 "nbformat_minor": 0
}
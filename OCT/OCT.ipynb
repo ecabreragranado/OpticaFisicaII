{
 "cells": [
  {
   "cell_type": "markdown",
   "metadata": {
    "collapsed": false
   },
   "source": [
    "# Tomografía de coherencia óptica. Puntos básicos."
   ]
  },
  {
   "cell_type": "markdown",
   "metadata": {
    "collapsed": false
   },
   "source": [
    "*La tomografía de coherencia óptica (TCO) es una técnica de imagen tomográfica óptica, no invasiva e interferométrica, que ofrece una penetración de milímetros (aproximadamente 2-3 mm en el tejido o material de que se trate) con resolución axial y lateral de escala micrométrica. La técnica fue demostrada por primera vez en 1991 con una resolución axial de ~30µm. En 2001 la TCO alcanzó una resolución submicrométrica debido a la introducción de fuentes de luz de banda amplia (fuentes que emiten longitudes de onda sobre un rango de ~100 nm). Ahora la TCO es una técnica de imagen ampliamente aceptada, especialmente en oftalmología, otras aplicaciones biomédicas, y la conservación de obras de arte.*\n",
    "\n",
    "Esta es la definición que [aparece en la Wikipedia](https://es.wikipedia.org/wiki/Tomograf%C3%ADa_de_coherencia_%C3%B3ptica), pero ¿en qué consiste?. ¿Y en qué se relaciona con lo estudiado durante el curso hasta ahora?"
   ]
  },
  {
   "cell_type": "markdown",
   "metadata": {
    "collapsed": false
   },
   "source": [
    "### Interferencia de baja coherencia"
   ]
  },
  {
   "cell_type": "markdown",
   "metadata": {
    "collapsed": false
   },
   "source": [
    "Cuando hemos estudiado la interferencia entre dos haces, hemos hecho hincapié en que para que poder visualizarla la diferencia de camino $\\Delta$ entre los dos haces que interfieren, ha de ser menor que la longitud de coherencia $l_c$ de la radiación. En caso contrario, el desfase relativo entre las dos ondas varía aleatoriamente y el promedio temporal en el tiempo de observación es nulo. Hasta ahora hemos visto una longitud de coherencia pequeña como un factor limitante en experimentos de interferometría. Sin embargo, puede ser un elemento que podemos utilizar para alcanzar una gran resolución en nuestras medidas.\n",
    "\n",
    "Antes de ver la interferencia de baja coherencia primeramente hay que recordar la relación entre la longitud de coherencia y la anchura espectral de la fuente. Pulsos de luz muy anchos espectralmente poseen una longitud de coherencia pequeña, mientras que el caso límite de radiación monocromática tendría una longitud de coherencia infinita. En particular, la relación entre ambas magnitudes es la siguiente:\n",
    "\n",
    "$$ l_c = \\frac{\\lambda^2 }{\\Delta \\lambda}$$\n",
    "\n",
    "Se observa así que cuando hablamos de interferencia con radiación de baja coherencia, hablamos igualmente de interferencia con fuentes de espectro ancho, como pueden ser diodos superluminiscentes o pulsos láser de fs.\n",
    "\n",
    "\n",
    "En la interferometría de baja coherencia, efectivamente la luz utilizada posee una longitud de coherencia pequeña, del orden de micras o incluso menor. Esto tiene como consecuencia que si construimos un interferómetro utilizando esta radiación, la diferencia de camino entre los haces que interfieren ha de ser como máximo de ese orden para observar dicha interferencia. O dicho de otro modo, cuando obtenemos interferencia sabemos que la diferencia de camino entre los dos haces es del orden de micras o menor. Por tanto, podemos utilizar este método para medir de forma muy precisa distancias.\n",
    "\n",
    "\n",
    "Además, utilizando radiación en la región del infrarrojo ($\\sim 800$ nm) la longitud de penetración en los medios biológicos es del orden de mm. En concreto, en el caso del ojo se consigue penetrar hasta la retina ya que esta radiación no es absorbida por el agua presente en la córnea y en los humores acuoso y vítreo."
   ]
  },
  {
   "cell_type": "markdown",
   "metadata": {
    "collapsed": false
   },
   "source": [
    "### ¿En qué consiste?"
   ]
  },
  {
   "cell_type": "markdown",
   "metadata": {
    "collapsed": false
   },
   "source": [
    "El principio y montaje para la tomografía de coherencia óptica se puede observar en la siguiente figura:\n",
    "\n",
    "![oct](https://upload.wikimedia.org/wikipedia/commons/thumb/e/e6/OCT_B-Scan_Setup.GIF/375px-OCT_B-Scan_Setup.GIF)"
   ]
  },
  {
   "cell_type": "markdown",
   "metadata": {
    "collapsed": false
   },
   "source": [
    "Como se observa en la figura, la radiación con una longitud de coherencia baja (ancho espectro) ilumina un interferómetro de Michelson, en donde en uno de sus brazos colocamos la muestra (o el ojo) y en el otro un espejo móvil. Las diferencias de camino entre el haz reflejado en el espejo y cada uno de los haces reflejados en las superficies de la muestra serán:\n",
    "\n",
    "$$\\Delta_1 = 2 z -  2 H$$\n",
    "\n",
    "$$\\Delta_2 = 2 z -  2 (H+ n L_1)$$\n",
    "\n",
    "$$\\Delta_3 = 2 z -  2 (H + n L_2)$$\n",
    "\n",
    "donde se ha supuesto que $z$ es la distancia entre el espejo móvil y el divisor de haz, $H$ la distancia entre la primera superficie de la muestra y el divisor, $n$ el índice de refracción dentro de la muestra, y $L_{1,2}$ las distancias de las superficies maś alejadas de la muestra con respecto a la primera.\n",
    "\n",
    "El movimiento de este espejo permitirá igualar los caminos ópticos de los haces reflejados en el espejo móvil y en cada una de las superficies de las que consta la muestra. La irradiancia medida por el detector en función del desplazamiento del espejo se puede apreciar en la figura superior derecha. Se puede observar que aparecen, en el ejemplo mostrado, 3 zonas de interferencia, con máximos y mínimos, correspondientes a cada una de las 3 superficies de las que consta la muestra. La altura de cada zona depende de la reflectancia de esa superficie mientras que la anchura es proporcional a la longitud de coherencia de la fuente.\n",
    "\n",
    "Si pensamos en que movemos el espejo desde una zona cercana al divisor de haz del interferómetro, veríamos primero que al mover el espejo la irradiancia se mantiene constante. Esto es debido a que el camino óptico recorrido por el haz reflejado en el espejo es muy diferente a los caminos ópticos de los haces reflejados por cualquiera de las 3 superficies de la muestra, y por tanto no vemos interferencia ($I_{total} = I_1 + I_2$). \n",
    "\n",
    "Al seguir moviendo el espejo, llegará un punto en el que la diferencia de camino entre el haz reflejado en el espejo y el haz reflejado por la primera superficie de la muestra sea menor que $l_c$. Entonces veremos interferencia y la irradiancia detectada oscilará entre unos valores máximos y mínimos a medida que movemos el espejo. \n",
    "\n",
    "Si continuamos moviendo el espejo alejándonos del divisor de haz, nos saldremos de la zona en la que la diferencia de camino entre el haz reflejado en el espejo y el haz reflejado por la primera superficie de la muestra es menor que $l_c$, volviendo a una irradiancia constante. Un posterior movimiento del espejo provocará que se cumpla esta condición (diferencia de camino menor que $l_c$) pero entre el haz reflejado por el espejo y el reflejado por la segunda superficie. Entonces veremos la segunda zona de interferencia en la señal captada por el detector. Lo mismo ocurrirá con la tercera superficie."
   ]
  },
  {
   "cell_type": "markdown",
   "metadata": {
    "collapsed": false
   },
   "source": [
    "----\n",
    "\n",
    "Veamos un ejemplo numérico en donde definimos dos trenes de pulsos con una diferencia de camino que depende de su posición"
   ]
  },
  {
   "cell_type": "markdown",
   "metadata": {
    "collapsed": false
   },
   "source": [
    "### Figura para visualizar la interferencia en OCT"
   ]
  },
  {
   "cell_type": "code",
   "execution_count": 4,
   "metadata": {
    "collapsed": false
   },
   "outputs": [
    {
     "data": {
      "text/plain": [
       "<function __main__.oct>"
      ]
     },
     "execution_count": 4,
     "metadata": {
     },
     "output_type": "execute_result"
    },
    {
     "data": {
      "image/png": "[encoded data removed]"
     }
    }
   ],
   "source": [
    "import numpy as np\n",
    "import matplotlib\n",
    "import matplotlib.pyplot as plt\n",
    "plt.style.use('ggplot')\n",
    "\n",
    "%matplotlib inline\n",
    "from scipy.interpolate import interp1d\n",
    "import ipywidgets as widg\n",
    "\n",
    "num_pulsos = 2\n",
    "c0 = 3e8\n",
    "twidth = 2e-14\n",
    "t = np.linspace(0,twidth*25,15000)\n",
    "t01 = np.linspace(2,5,num_pulsos)*4*twidth\n",
    "A01 = np.linspace(10,4,num_pulsos)\n",
    "t02 = [8*twidth]\n",
    "Lambda = 9.5e-7\n",
    "wpulse = 2*np.pi*c0/Lambda\n",
    "k = 2.0*np.pi/Lambda\n",
    "\n",
    "z = 3.2*Lambda #lo que se mueve un espejo. Luego, en tren2, vendrá multiplicado por 2\n",
    "tren1 = np.sum(np.asarray([A01[i]*np.exp(-((t-t01[i])/twidth)**2)*np.exp(1.0j*(-wpulse*t)) \n",
    "                           for i in range(len(t01))]),axis=0)\n",
    "zshow = np.linspace(0,c0*twidth*10,900)\n",
    "\n",
    "int_array = np.zeros(np.shape(zshow))\n",
    "dt = t[1]-t[0]\n",
    "t_int = t[-1]\n",
    "i1 =  np.sum(np.real(tren1)**2)*dt/t_int #+ np.sum(np.real(tren2)**2)*dt/t_int)\n",
    "print(i1*2) # i1 + i2\n",
    "for i,zz in enumerate(zshow):\n",
    "    tren2 = np.sum(np.asarray([np.exp(-((t-(t00 + 2*zz/c0 - twidth*4.5))/twidth)**2)*np.exp(1.0j*(k*2*zz-wpulse*t))\n",
    "                               for t00 in t02]),axis=0)\n",
    "    #Interferencia\n",
    "    etotal = tren1+tren2\n",
    "    int_array[i] = np.sum(np.real(etotal)**2)*dt/t_int\n",
    "fun_int = interp1d(zshow,int_array)\n",
    "\n",
    "def oct(z,zshow,int_array,tren1,fun_int):\n",
    "    z=z*1e-6\n",
    "    tren2 = np.sum(np.asarray([A01[0]*np.exp(-((t-(t00 + 2*z/c0 - twidth*4.5))/twidth)**2)*np.exp(1.0j*(k*2*z-wpulse*t))\n",
    "                           for t00 in t02]),axis=0)\n",
    "    fig, ax = plt.subplots(1,3,figsize=(21,6))\n",
    "    ax[0].plot(t*1e15,np.real(tren1),t*1e15,np.real(tren2))\n",
    "    ax[0].set_title('Solapamiento temporal pulsos')\n",
    "    ax[0].set_xlabel('t (fs)')\n",
    "    ax[0].set_ylabel('E (u.a)')\n",
    "    ax[1].plot(zshow*1e6,int_array)\n",
    "    ax[1].set_title('Solapamiento temporal pulsos')\n",
    "    ax[1].set_xlabel(r'z ($\\mu$m)')\n",
    "    ax[1].set_ylabel('I (u.a)')\n",
    "    ax[2].plot(z*1e6,fun_int(z),'go',alpha=0.5)\n",
    "    ax[2].plot(zshow*1e6,int_array)\n",
    "    ax[2].set_xlim(0,25)\n",
    "    ax[2].set_title('Zoom')\n",
    "    ax[2].set_xlabel(r'z ($\\mu$m)')\n",
    "    ax[2].set_ylabel('I (u.a)')\n",
    "               \n",
    "\n",
    "widg.interact(oct,z=(0,25,1),zshow=widg.fixed(zshow),int_array=widg.fixed(int_array),tren1=widg.fixed(tren1),fun_int=widg.fixed(fun_int))"
   ]
  },
  {
   "cell_type": "markdown",
   "metadata": {
    "collapsed": false
   },
   "source": [
    "**De la figura**\n",
    "\n",
    "* Relacionar la interfranja con la longitud de onda (Nota: $Int$ = 2 $\\lambda$) \n",
    "\n",
    "* Relacionar anchura de la zona de interferencia con l$_c$\n",
    "\n",
    "* Relacionar valor cte con i1 + i2 + i3\n",
    "\n",
    "* ¿Por qué la segunda zona tiene un valor menor? "
   ]
  },
  {
   "cell_type": "code",
   "execution_count": 0,
   "metadata": {
    "collapsed": false
   },
   "outputs": [
   ],
   "source": [
   ]
  }
 ],
 "metadata": {
  "kernelspec": {
   "display_name": "T - Python 3 (Ubuntu Linux)",
   "language": "python",
   "name": "python3"
  },
  "language_info": {
   "codemirror_mode": {
    "name": "ipython",
    "version": 3
   },
   "file_extension": ".py",
   "mimetype": "text/x-python",
   "name": "python",
   "nbconvert_exporter": "python",
   "pygments_lexer": "ipython3",
   "version": "3.4.3+"
  }
 },
 "nbformat": 4,
 "nbformat_minor": 0
}
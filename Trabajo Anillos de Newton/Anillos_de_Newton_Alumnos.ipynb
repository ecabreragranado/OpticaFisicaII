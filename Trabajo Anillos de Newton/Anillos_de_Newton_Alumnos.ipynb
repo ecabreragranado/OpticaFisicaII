{
 "cells": [
  {
   "cell_type": "markdown",
   "metadata": {},
   "source": [
    "# Caracterización de una lente oftálmica mediante la técnica de los Anillos de Newton"
   ]
  },
  {
   "cell_type": "markdown",
   "metadata": {},
   "source": [
    "####  Consultar el manual de uso de los cuadernos interactivos (notebooks) que se encuentra disponible en  el Campus Virtual"
   ]
  },
  {
   "cell_type": "markdown",
   "metadata": {},
   "source": [
    "### Grupo de trabajo"
   ]
  },
  {
   "cell_type": "markdown",
   "metadata": {},
   "source": [
    "En esta celda los integrantes del grupo: *modificar el texto*\n",
    "\n",
    "* Juan Antonio Fernández \n",
    "* Alberto Pérez\n",
    "* Juan \n",
    "\n",
    "Incluir la dirección de correo electrónico del responsable del grupo"
   ]
  },
  {
   "cell_type": "markdown",
   "metadata": {},
   "source": [
    "### <div class='alert'> Tarea 1. Figura con el patrón de interferencias (Anillo de Newton). </div>"
   ]
  },
  {
   "cell_type": "markdown",
   "metadata": {},
   "source": [
    "Estudiaremos como se determina el radio de curvatura de un lente plano-convexa empleando la técnica interferométrica conocida como Anillos de Newton. Para ello vamos a simular nuestra lente plano-convexa empleando el sistema de dos superficies proporcionado por el profesor. \n",
    "\n",
    "Vamos a mostrar la imagen con el patrón de interferencias medido. Para ello es necesario subir a vuestra cuenta de SageMath la imagen que habéis tomado. Si pincháis en \"New\" (en la parte superior izquierda de la página), podeís arrastrar directamente vuestra imagen al \"Drop Files\". \n",
    "\n",
    "En la siguiente celda de código escribir el nombre de la imagen para que se pueda mostrar. El texto que aparece después del símbolo # son comentarios. Una vez ejecutada vuestra imagen debe aparecer a continuación. Si no es así, por favor contactad con el profesor."
   ]
  },
  {
   "cell_type": "code",
   "execution_count": null,
   "metadata": {
    "collapsed": false
   },
   "outputs": [],
   "source": [
    "# MODIFICAR EL NOMBRE DEL FICHERO IMAGEN. LUEGO EJECUTAR\n",
    "########################################################\n",
    "\n",
    "nombre_fichero_imagen=\"nombre.jpg\"  # Incluir el nombre completo con extensión del fichero imagen dentro de las comillas                \n",
    "\n",
    "# DESDE AQUÍ NO TOCAR \n",
    "##############################################################################################################################\n",
    "%pylab inline\n",
    "from IPython.core.display import Image,display\n",
    "Image(filename=nombre_fichero_imagen)"
   ]
  },
  {
   "cell_type": "markdown",
   "metadata": {},
   "source": [
    "### <div class='alert'> Tarea 2. Determinar el radio de los anillos oscuros. </div>"
   ]
  },
  {
   "cell_type": "markdown",
   "metadata": {},
   "source": [
    "\n",
    "Empleando la imagen anterior vamos a medir el diámetro de los anillos oscuros. Se pueden medir directamente en la pantalla del ordenador o imprimiendo la figura en una hoja de papel. Escribir en la siguiente tabla el diámetro de los anillos oscuros en las unidades indicadas (**añadir tantas filas como sean necesarias manteniendo el formato**) y explicar como se han medido (pantalla del ordenador, papel).\n",
    "\n",
    " Número del anillo | Diámetro del anillo (mm)\n",
    "-------| ------\n",
    " 1      |   3.6\n",
    " 2      |   --      \n",
    " 3      |   --\n",
    " 4      |  5.6\n",
    " \n",
    "* Explicación del proceso\n",
    "\n",
    "(Escribir aquí la explicación del proceso)\n",
    "\n",
    "---\n",
    "\n",
    "Estos diámetros tienen el aumento $\\beta$ correspondiente al sistema óptico de medida y al tamaño de la figura en la pantalla del ordenador o en la hoja de papel. Teniendo en cuenta la escala de referencia que aparece en la figura calcular el aumento $\\beta$ de los diámetros medidos (*escribir el valor*). Esta medida debe realizarse en las mismas condiciones que las de los diámetros.\n",
    "\n",
    "* $\\beta$ =\n",
    "\n",
    "Usando dicho aumento podemos obtener el radio real de los anillos oscuros.\n",
    "\n",
    "Radio = (Diámetro / 2) / $\\beta$     \n",
    "\n",
    "Escribir otra tabla con los valores finales de los radios de los anillos oscuros en las unidades indicadas (como en la tabla anterior, añadir tantas filas como sean necesarias mantiendo el formato).\n",
    "\n",
    "Número | Radio real (mm)\n",
    "---| ---\n",
    " 1      |   --     \n",
    " 2      |   --      \n",
    " 3      |   --"
   ]
  },
  {
   "cell_type": "markdown",
   "metadata": {},
   "source": [
    "### <div class='alert'> Tarea 3. Análisis de los datos. Ajuste lineal de los radios de los anillos oscuros </div>"
   ]
  },
  {
   "cell_type": "markdown",
   "metadata": {},
   "source": [
    "Para analizar los resultados indicar en la siguiente celda de código el número de anillos medidos y ejecutar la celda. Aparecerán casillas donde incluiremos los valores reales de los radios de los anillos oscuros obtenidos en la tarea anterior en mm."
   ]
  },
  {
   "cell_type": "code",
   "execution_count": 47,
   "metadata": {
    "collapsed": false
   },
   "outputs": [],
   "source": [
    "#INDICAR EL NÚMERO DE ANILLOS MEDIDO\n",
    "\n",
    "anillos_medidos = 3 ## Indicar aquí el número de anillos medidos\n",
    "\n",
    "\n",
    "#DESDE AQUÍ NO TOCAAR\n",
    "######################\n",
    "\n",
    "from IPython.html import widgets\n",
    "from IPython.display import display\n",
    "\n",
    "listwidgets = []\n",
    "for i in range(anillos_medidos):\n",
    "    listwidgets.append(widgets.FloatTextWidget(description='Radio Real Anillo '+str(i+1),value=1))\n",
    "    display(listwidgets[i])"
   ]
  },
  {
   "cell_type": "markdown",
   "metadata": {},
   "source": [
    "Empleando los radios de los anillos oscuros vamos a representar gráficamente el radio al cuadrado en función del número del anillo oscuro. Dicha representación debería darnos una dependencia lineal cuya pendiente es el radio de curvatura multiplicado por la longitud de onda de la luz empleada en el experimento, es decir, \n",
    "\n",
    "$$\\text{pendiente} =  \\lambda  \\text{R }$$\n",
    "\n",
    "Como hemos empleando luz blanca para realizar el experimento vamos a emplear una longitud de onda central del visible: $\\lambda$=550 nm.\n",
    "\n",
    "En la siguiente celda de código se representan los datos y se realiza el ajuste lineal para obtener el valor de la pendiente (aparece escrito en la figura). Dicho valor tendrá las unidades de los radios al cuadrado, es decir, mm$^2$."
   ]
  },
  {
   "cell_type": "code",
   "execution_count": 48,
   "metadata": {
    "collapsed": false
   },
   "outputs": [
    {
     "name": "stdout",
     "output_type": "stream",
     "text": [
      "Populating the interactive namespace from numpy and matplotlib\n"
     ]
    },
    {
     "data": {
      "image/png": "[encoded data removed]",
      "text/plain": [
       "<matplotlib.figure.Figure at 0x7f4811cf5350>"
      ]
     },
     "metadata": {},
     "output_type": "display_data"
    }
   ],
   "source": [
    "# NO TOCAR SOLO EJECUTAR\n",
    "###########################################################################\n",
    "%pylab inline\n",
    "\n",
    "valores_radios = []\n",
    "for i in range(anillos_medidos):\n",
    "    valores_radios.append(listwidgets[i].value)\n",
    "\n",
    "radio= array(valores_radios) # Los radios de los anillos oscuros \n",
    "\n",
    "m=linspace(1,size(radio),size(radio)) # Vector con los números de los anillos\n",
    "radio2=radio*radio # Vector con los radios de los anillos al cuadrado\n",
    "a,b = polyfit(m,radio2,1) # Ajuste de los datos a una recta donde a es la pendiente y b la ordenada en el origen\n",
    "\n",
    "plot(m,radio2,'o',m,a*m+b,'-',lw=2) \n",
    "xlabel('Numero del anillo')\n",
    "ylabel('Radio$^2$ (mm$^2$)') # Escribimos los nombres de los ejes\n",
    "te = \"pendiente = %f mm$^2$\" % a;title(te); # Se muestra el valor de la pendiente;"
   ]
  },
  {
   "cell_type": "markdown",
   "metadata": {},
   "source": [
    "Empleando el valor de la pendiente y la longitud de onda calcular el radio de curvatura de la lente \n",
    "\n",
    "* $R$=  (*incluir las unidades*)"
   ]
  }
 ],
 "metadata": {
  "kernelspec": {
   "display_name": "Python 2 (SageMath)",
   "language": "python",
   "name": "python2"
  },
  "language_info": {
   "codemirror_mode": {
    "name": "ipython",
    "version": 2
   },
   "file_extension": ".py",
   "mimetype": "text/x-python",
   "name": "python",
   "nbconvert_exporter": "python",
   "pygments_lexer": "ipython2",
   "version": "2.7.10"
  },
  "name": "Anillos_de_Newton_Alumnos.ipynb"
 },
 "nbformat": 4,
 "nbformat_minor": 0
}

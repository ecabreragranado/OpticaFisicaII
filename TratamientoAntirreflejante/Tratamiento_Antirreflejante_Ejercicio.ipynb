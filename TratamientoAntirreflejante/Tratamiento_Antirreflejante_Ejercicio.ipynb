{
 "cells": [
  {
   "cell_type": "markdown",
   "metadata": {
    "collapsed": false
   },
   "source": [
    "# Diseño y caracterización de un tratamiento antirreflejante para una lente oftálmica"
   ]
  },
  {
   "cell_type": "markdown",
   "metadata": {
    "collapsed": false
   },
   "source": [
    "####  Consultar el manual de uso de los cuadernos interactivos (notebooks) que se encuentra disponible en  el Campus Virtual"
   ]
  },
  {
   "cell_type": "markdown",
   "metadata": {
    "collapsed": false
   },
   "source": [
    "### Grupo de trabajo"
   ]
  },
  {
   "cell_type": "markdown",
   "metadata": {
    "collapsed": false
   },
   "source": [
    "En esta celda escribir los nombres de los integrantes del grupo: *modificar el texto*\n",
    "\n",
    "* Alfonso Fernández  \n",
    "* Carolina Pérez (Responsable Email:carolina@ucm.es)\n",
    "\n",
    "Incluir la dirección de correo electrónico del responsable del grupo"
   ]
  },
  {
   "cell_type": "markdown",
   "metadata": {
    "collapsed": false
   },
   "source": [
    "## Tarea 1. Lente oftálmica. Caracterización de las pérdidas por reflexión"
   ]
  },
  {
   "cell_type": "markdown",
   "metadata": {
    "collapsed": false
   },
   "source": [
    "Primero vamos a elegir una lente oftálmica de alto índice. Realizar una búsqueda en internet e incluir los datos de la lente seleccionada y la dirección de la página web  (*modificar este texto*): \n",
    "\n",
    "* material o nombre \n",
    "\n",
    "* índice de refracción $n_L$= \n",
    "\n",
    "* dirección de la página web, (por ejemplo http://www.ucm.es) \n",
    "\n",
    "Vamos a caracterizar las pérdidas por reflexión de la lente. Calculamos la reflectancia en tanto por ciento en la primera cara de la lente (interfase aire-lente) empleando el coeficiente de reflexión en incidencia normal *escribir aquí el valor modificando este texto*\n",
    "\n",
    "* R = %"
   ]
  },
  {
   "cell_type": "markdown",
   "metadata": {
    "collapsed": false
   },
   "source": [
    "##  Tarea 2. Diseño del tratamiento antirreflejante. Espesor de la monocapa. "
   ]
  },
  {
   "cell_type": "markdown",
   "metadata": {
    "collapsed": false
   },
   "source": [
    "Vamos a diseñar un tratamiento antirreflejante para la lente de alto índice. Para ello empleamos una capa de fluoruro de magnesio (MgF$_2$) cuyo índice de refracción en el rango del visible se puede aproximar a $n_c$=1.38. Este material presenta un índice de refracción sensiblemente inferior a los típicos de las lentes donde se deposita. \n",
    "\n",
    "Para elegir el tamaño adecuado de la monocapa antirreflejante vamos a considerar incidencia normal ($\\theta_i$=0) y tenemos que decidir para que longitud de onda optimizamos el tratamiento. Para elegir esta longitud de onda ejecutar la celda de código que aparece debajo. Esta operación se realizará una única vez, es decir, no habrá que ejecutarla nunca más."
   ]
  },
  {
   "cell_type": "code",
   "execution_count": 0,
   "metadata": {
    "collapsed": false
   },
   "outputs": [
   ],
   "source": [
    "# NO TOCAR. SOLO EJECUTAR (SOLO UNA VEZ)\n",
    "####################################################################################\n",
    "%pylab inline\n",
    "lambda0 = int(np.random.rand()*150 +475)\n",
    "print \"Longitud de onda para la que optimizamos el tratamiento = \",lambda0, \" nm\""
   ]
  },
  {
   "cell_type": "markdown",
   "metadata": {
    "collapsed": false
   },
   "source": [
    "\n",
    "Escribir aquí el valor de la longitud de onda seleccionada (que aparece arriba) \n",
    "\n",
    "* longitud de onda $\\lambda_0$=   nm \n",
    "\n",
    "Calculamos el espesor más pequeño de la monocapa *escribir aquí su valor numérico modificando este texto*\n",
    "\n",
    "* espesor1 =   nm\n"
   ]
  },
  {
   "cell_type": "markdown",
   "metadata": {
    "collapsed": false
   },
   "source": [
    "## Tarea 3. Caracterización del tratamiento antirreflejante en incidencia normal "
   ]
  },
  {
   "cell_type": "markdown",
   "metadata": {
    "collapsed": false
   },
   "source": [
    "Vamos a caracterizar la reflectancia de la lente de alto índice con el tratamiento antirreflejante en función de la longitud de onda en el rango del visible. Consideramos el caso de incidencia normal y el espesor calculado en la Tarea 2 (estas son las condiciones que se han empleado en el diseño del tratamiento).  \n",
    "\n",
    "En la siguiente celda aparece el código de programación que calcula y pinta dicha reflectancia (en tanto por ciento).\n",
    "El texto que aparece después del símbolo # son comentarios."
   ]
  },
  {
   "cell_type": "code",
   "execution_count": 1,
   "metadata": {
    "collapsed": false
   },
   "outputs": [
    {
     "name": "stdout",
     "output_type": "stream",
     "text": [
      "Populating the interactive namespace from numpy and matplotlib\n"
     ]
    },
    {
     "data": {
      "text/plain": [
       "<matplotlib.text.Text at 0x7f5acd6f1c10>"
      ]
     },
     "execution_count": 1,
     "metadata": {
     },
     "output_type": "execute_result"
    },
    {
     "data": {
      "image/png": "[encoded data removed]"
     },
     "execution_count": 1,
     "metadata": {
     },
     "output_type": "execute_result"
    }
   ],
   "source": [
    "# MODIFICAR LOS DOS PARAMETROS. LUEGO EJECUTAR\n",
    "########################################################\n",
    "\n",
    "nL = 1.8 # Incluir el índice de la lente de alto índice\n",
    "\n",
    "espesor1 = 99.0 # Incluir el valor del espesor de la capa (en nm)\n",
    "\n",
    "# DESDE AQUÍ NO TOCAR \n",
    "##############################################################################################################################\n",
    "\n",
    "%pylab inline\n",
    "nc = 1.38 # Índice de la monocapa (MgF2)\n",
    "longitud_de_onda = linspace(400,750,100) # Crea los valores de las longitudes de onda en el visible (en nm)\n",
    "\n",
    "# Coeficientes de reflexion y transmision\n",
    "rA = (1-nc)/(1+nc)  # Coeficiente de reflexión aire --> monocapa\n",
    "tA = 2*1/(1+nc)     # Coeficiente de transmisión aire --> monocapa\n",
    "rB = (nc-nL)/(nc+nL) # Coeficiente de reflexión monocapa --> lente\n",
    "tC = 2*nc/(nc+1)     # Coeficiente de transmissión monocapa --> aire\n",
    "\n",
    "# Desfase y Reflectancia para el espesor mínimo\n",
    "desfase1 = (2*pi/longitud_de_onda)*2*nc*espesor1 + 0*pi # desfase geométrico + desfase debido a las reflexiones\n",
    "Reflectancia_tratamiento1 = 100*( rA**2 + (tA*rB*tC)**2 + 2*sqrt( (rA**2)*(tA*rB*tC)**2 )*cos(desfase1) ) # Reflectancia (%) \n",
    "\n",
    "# Dibujamos la reflectancia en función de la longitud de onda\n",
    "fig,ax = plt.subplots()\n",
    "plot(longitud_de_onda,Reflectancia_tratamiento1,lw=2) # Pintamos la reflectancia\n",
    "xlabel('$\\lambda$ (nm)',fontsize=16)\n",
    "ylabel('Reflectancia (%)',fontsize=16) # Escribimos los nombres de los ejes;"
   ]
  },
  {
   "cell_type": "markdown",
   "metadata": {
    "collapsed": false
   },
   "source": [
    "A la vista de la gráfica comentar *(modificando el texto de este apartado)* los siguientes puntos:\n",
    "\n",
    "* valor mínimo de la reflectancia y la longitud de onda en la que ocurre. ¿Tiene algo que ver esta longitud de onda con la seleccionada en la Tarea 2, es decir  con $\\lambda_0$?, explicar la relación.\n",
    "\n",
    "* valor máximo de la reflectancia y la longitud de onda en la que ocurre. \n",
    "\n",
    "A continuación prestamos atención a los valores de la reflectancia a lo largo de todo el visible, es decir, a toda la curva. Comparando dichos valores con el valor de la reflectancia de la lente calculada en la Tarea 1: \n",
    "\n",
    "* comentar razonadamente si el tratamiento antirreflejantes es eficaz."
   ]
  },
  {
   "cell_type": "markdown",
   "metadata": {
    "collapsed": false
   },
   "source": [
    "## Tarea 4. Caracterización del tratamiento antirreflejante con el ángulo de incidencia "
   ]
  },
  {
   "cell_type": "markdown",
   "metadata": {
    "collapsed": false
   },
   "source": [
    "Vamos a estudiar como se comporta nuestro tratamiento cuando consideramos ángulos de incidencia distintos de cero. Para ello calculamos la reflectancia de la lente con el tratamiento para un ángulo de incidencia $\\theta_i$. Usando este ángulo, el código que aparece en la siguiente celda calcula los ángulos incidentes y transmitidos en la distintas interfases y calcula la reflectancia del sistema para las dos componentes de polarización. Al considerar luz despolarizada la reflectancia será el promedio de las dos. En la gráfica se muestra la reflectancia para el ángulo de incidencia seleccionado junto con el caso de incidencia normal. \n",
    "\n",
    "Antes de ejecutar la siguiente celda, habremos tenido que ejecutar durante esta sesión de trabajo (al menos una vez) la celda de código correspondiente a la Tarea 3 (correspondiente a incidencia normal y espesor mínimo de la monocapa). "
   ]
  },
  {
   "cell_type": "code",
   "execution_count": 3,
   "metadata": {
    "collapsed": false
   },
   "outputs": [
    {
     "data": {
      "text/plain": [
       "<matplotlib.legend.Legend at 0x7f5acd434b10>"
      ]
     },
     "execution_count": 3,
     "metadata": {
     },
     "output_type": "execute_result"
    },
    {
     "data": {
      "image/png": "[encoded data removed]"
     },
     "execution_count": 3,
     "metadata": {
     },
     "output_type": "execute_result"
    }
   ],
   "source": [
    "# MODIFICAR EL PARAMETRO. LUEGO EJECUTAR\n",
    "#######################################################################################################\n",
    "\n",
    "angulo_incidente = 50 # Incluir el ángulo de incidencia (en grados) a la interfase aire-monocapa \n",
    "\n",
    "# DESDE AQUÍ NO TOCAR. \n",
    "##############################################################################################################################\n",
    "\n",
    "angulo_incidente = angulo_incidente*pi/180 # Pasamos el ángulo a radianes\n",
    "angulo_transmitido_1 = arcsin(sin(angulo_incidente)/nc) # El ángulo transmitido en la interfase aire-monocapa (en radianes) \n",
    "angulo_incidente_2 = angulo_transmitido_1 # El ángulo incidente a la interfase monocapa-lente o a la interfase monocapa-aire \n",
    "                                          # es igual al ángulo transmitido en la interfase aire-monocapa (en radianes)\n",
    "angulo_transmitido_2 = arcsin(nc*sin(angulo_incidente_2)/nL) # El ángulo transmitido en la interfase monocapa-lente (en radianes)\n",
    "\n",
    "# Coeficientes de reflexion y transmision de las dos componentes de polarización\n",
    "rAs = (1*cos(angulo_incidente)-nc*cos(angulo_transmitido_1))/(1*cos(angulo_incidente)+nc*cos(angulo_transmitido_1)) # reflexión aire --> monocapa\n",
    "tAs = 2*1*cos(angulo_incidente)/(1*cos(angulo_incidente)+nc*cos(angulo_transmitido_1))  # transmisión aire --> monocapa\n",
    "rBs = (nc*cos(angulo_incidente_2)-nL*cos(angulo_transmitido_2))/(nc*cos(angulo_incidente_2)+nL*cos(angulo_transmitido_2))  # reflexión monocapa --> lente\n",
    "tCs = 2*nc*cos(angulo_incidente_2)/(nc*cos(angulo_incidente_2)+1*cos(angulo_incidente)) # transmissión monocapa --> aire\n",
    "\n",
    "rAp = (nc*cos(angulo_incidente)-1*cos(angulo_transmitido_1))/(nc*cos(angulo_incidente)+1*cos(angulo_transmitido_1)) # reflexión aire --> monocapa\n",
    "tAp = 2*1*cos(angulo_incidente)/(nc*cos(angulo_incidente)+1*cos(angulo_transmitido_1))  # transmisión aire --> monocapa\n",
    "rBp = (nL*cos(angulo_incidente_2)-nc*cos(angulo_transmitido_2))/(nL*cos(angulo_incidente_2)+nc*cos(angulo_transmitido_2))  # reflexión monocapa --> lente\n",
    "tCp = 2*nc*cos(angulo_incidente_2)/(1*cos(angulo_incidente_2)+nc*cos(angulo_incidente)) # transmissión monocapa --> aire\n",
    "\n",
    "# Desfase y Reflectancia\n",
    "desfase1_angulo = (2*pi/longitud_de_onda)*2*nc*espesor1*cos(angulo_transmitido_1)+0*pi # desfase geométrico + desfase debido a las reflexiones \n",
    "Reflectancia_tratamiento1_s = 100*( rAs**2 + (tAs*rBs*tCs)**2 + 2*sqrt((rAs**2)*(tAs*rBs*tCs)**2)*cos(desfase1_angulo) ) # componente s (%) \n",
    "Reflectancia_tratamiento1_p = 100*( rAp**2 + (tAp*rBp*tCp)**2 + 2*sqrt((rAp**2)*(tAp*rBp*tCp)**2)*cos(desfase1_angulo) ) # componente p (%) \n",
    "Reflectancia_tratamiento1_angulo=(Reflectancia_tratamiento1_s+Reflectancia_tratamiento1_p)/2\n",
    "\n",
    "# Dibujamos la reflectancia en función de la longitud de onda\n",
    "plot(longitud_de_onda,Reflectancia_tratamiento1,longitud_de_onda,Reflectancia_tratamiento1_angulo,lw=2) # Pintamos la reflectancia\n",
    "xlabel('$\\lambda$ (nm)',fontsize=16);ylabel('Reflectancia (%)',fontsize=16) # Escribimos los nombres de los ejes\n",
    "legend(('incidencia normal','variando el angulo')) # Escribimos la leyenda;"
   ]
  },
  {
   "cell_type": "markdown",
   "metadata": {
    "collapsed": false
   },
   "source": [
    "A la vista de la gráfica comentar *(modificando el texto de este apartado)* los siguientes puntos:\n",
    "\n",
    "* Para un ángulo de 30 grados dar el valor de la reflectancia en $\\lambda_0$. Para dicho ángulo de incidencia ¿cuál es el valor mínimo de la reflectancia y la longitud de onda a la que ocurre?\n",
    "\n",
    "*  Al aumentar el ángulo de incidencia describir hacia donde se desplaza el valor de la longitud de onda que presenta el mínimo valor de la reflectancia.\n",
    "\n",
    "* Determinar a partir de qué ángulo de incidencia la reflectancia en alguna zona del visible alcanza valores próximos a la reflectancia de la lente calculada en la Tarea 1."
   ]
  },
  {
   "cell_type": "markdown",
   "metadata": {
    "collapsed": false
   },
   "source": [
    "## Tarea 5. Caracterización del tratamiento antirreflejante con el espesor de la monocapa "
   ]
  },
  {
   "cell_type": "markdown",
   "metadata": {
    "collapsed": false
   },
   "source": [
    "Hasta ahora hemos caracterizado el tratamiento para el espesor más pequeño posible de la monocapa. A continuación vamos a caracterizar el tratamiento para otros posibles espesores de la monocapa. Consideramos las mismas condiciones que empleamos para optimizar el tratamiento, es decir, incidencia normal y la longitud de onda $\\lambda_0$."
   ]
  },
  {
   "cell_type": "markdown",
   "metadata": {
    "collapsed": false
   },
   "source": [
    "Escribir aquí los dos siguientes espesores de la monocapa *escribir aquí su valor numérico modificando este texto*\n",
    "\n",
    "* espesor2 =  nm\n",
    "\n",
    "* espesor3 =  nm"
   ]
  },
  {
   "cell_type": "markdown",
   "metadata": {
    "collapsed": false
   },
   "source": [
    "Finalmente vamos a estudiar como se comporta nuestro tratamiento con los dos espesores calculados. También se muestra en la misma gráfica la reflectancia correspondiente al espesor mínimo. \n",
    "\n",
    "Antes de ejecutar la siguiente celda, habremos tenido que ejecutar durante esta sesión de trabajo (al menos una vez) la celda de código correspondientes a la Tarea 3. "
   ]
  },
  {
   "cell_type": "code",
   "execution_count": 4,
   "metadata": {
    "collapsed": false
   },
   "outputs": [
    {
     "data": {
      "text/plain": [
       "<matplotlib.legend.Legend at 0x7f5acd311d10>"
      ]
     },
     "execution_count": 4,
     "metadata": {
     },
     "output_type": "execute_result"
    },
    {
     "data": {
      "image/png": "[encoded data removed]"
     },
     "execution_count": 4,
     "metadata": {
     },
     "output_type": "execute_result"
    }
   ],
   "source": [
    "# MODIFICAR LOS DOS PARAMETROS. LUEGO EJECUTAR\n",
    "########################################################\n",
    "\n",
    "espesor2 = 99*3  # Incluir el valor del segundo espesor más pequeño de la monocapa (en nm)\n",
    "\n",
    "espesor3 = 99*5  # Incluir el valor del tercer espesor más pequeño de la monocapa (en nm)\n",
    "\n",
    "# DESDE AQUÍ NO TOCAR. \n",
    "##############################################################################################################################\n",
    "\n",
    "# Desfase y Reflectancia para el espesor mínimo\n",
    "desfase1 = (2*pi/longitud_de_onda)*2*nc*espesor1 + 0*pi # desfase geométrico + desfase debido a las reflexiones\n",
    "Reflectancia_tratamiento1 = 100*( rA**2 + (tA*rB*tC)**2 + 2*sqrt( (rA**2)*(tA*rB*tC)**2 )*cos(desfase1) ) # Reflectancia (%) \n",
    "\n",
    "# Desfase y Reflectancia para el segundo espesor mínimo\n",
    "desfase2 = (2*pi/longitud_de_onda)*2*nc*espesor2 + 0*pi # desfase geométrico + desfase debido a las reflexiones\n",
    "Reflectancia_tratamiento2 = 100*( rA**2 + (tA*rB*tC)**2 + 2*sqrt( (rA**2)*(tA*rB*tC)**2 )*cos(desfase2) ) # Reflectancia (%) \n",
    "\n",
    "# Desfase y Reflectancia para el segundo espesor mínimo\n",
    "desfase3 = (2*pi/longitud_de_onda)*2*nc*espesor3 + 0*pi # desfase geométrico + desfase debido a las reflexiones\n",
    "Reflectancia_tratamiento3 = 100*( rA**2 + (tA*rB*tC)**2 + 2*sqrt( (rA**2)*(tA*rB*tC)**2 )*cos(desfase3) ) # Reflectancia (%) \n",
    "\n",
    "# Dibujamos la reflectancia en función de la longitud de onda\n",
    "plot(longitud_de_onda,Reflectancia_tratamiento1,longitud_de_onda,Reflectancia_tratamiento2,longitud_de_onda,Reflectancia_tratamiento3,lw=2) # Pintamos la reflectancia\n",
    "xlabel('$\\lambda$ (nm)',fontsize=16);ylabel('Reflectancia (%)',fontsize=16) # Escribimos los nombres de los ejes \n",
    "legend(('espesor1','espesor2','espesor3'),loc = 'upper right', bbox_to_anchor = (0.5, 0.5)) # Escribimos la leyenda;"
   ]
  },
  {
   "cell_type": "markdown",
   "metadata": {
    "collapsed": false
   },
   "source": [
    "A la vista de la gráfica comentar *(modificando el texto de este apartado)* los siguientes puntos:\n",
    "\n",
    "* ¿cúal es el valor mínimo de la reflectancia para los tres espesores y la longitud de onda en la que ocurren?. ¿Por qué el mínimo ocurre en la misma longitud de onda?\n",
    "\n",
    "* valor máximo de la reflectancia para los tres espesores y la longitud de onda en la que ocurren. \n",
    "\n",
    "* Comparando las tres curvas con el valor de la reflectancia de la lente calculada en la Tarea 1, comentar razonadamente para que espesores el tratamiento antirreflejante es eficaz."
   ]
  }
 ],
 "metadata": {
  "kernelspec": {
   "display_name": "Python 2",
   "language": "python",
   "name": "python2"
  },
  "language_info": {
   "codemirror_mode": {
    "name": "ipython",
    "version": 2
   },
   "file_extension": ".py",
   "mimetype": "text/x-python",
   "name": "python",
   "nbconvert_exporter": "python",
   "pygments_lexer": "ipython2",
   "version": "2.7.13"
  },
  "name": "Tratamiento_Antirreflejante.ipynb"
 },
 "nbformat": 4,
 "nbformat_minor": 0
}
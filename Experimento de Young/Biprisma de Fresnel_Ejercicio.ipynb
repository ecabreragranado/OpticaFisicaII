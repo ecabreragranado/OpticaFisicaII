{
 "cells": [
  {
   "cell_type": "markdown",
   "metadata": {
    "collapsed": false
   },
   "source": [
    "# 1. Objetivo de la práctica\n",
    "\n",
    "Los objetivos de esta práctica son los siguientes:\n",
    "\n",
    "* Observación e interpretación del diagrama interferencial producido por un biprisma de Fresnel.\n",
    "\n",
    "* Determinación de la longitud de onda de la fuente láser empleada.\n"
   ]
  },
  {
   "cell_type": "markdown",
   "metadata": {
    "collapsed": false
   },
   "source": [
    "# 2. Fundamento teórico\n",
    "\n",
    "Consideremos el sistema de dos rendijas separadas una distancia $a$ de la figura siguiente, que son iluminadas por la luz procedente de una fuente casi puntual $S$ de radiación monocromática de longitud de onda $\\lambda$. A una cierta distancia $D$, tal que $D>>a$, del plano que contiene a la doble rendija, se coloca una pantalla sobre la que se realizan observaciones.\n",
    "El campo eléctrico en el punto $P_h$ de la pantalla vendrá dado por la superposición coherente de las ondas procedentes de ambas rendijas.\n",
    "\n",
    "$$E_p(x) = E_1+E_2 = \\frac{E_0}{r_1} e^{i(\\omega t -kr_1)} + \\frac{E_0}{r_2} e^{i(\\omega t -kr_2)}$$\n",
    "\n",
    "La distribución de irradiancia que se observa en un punto $P_h$ de la pantalla vendrá dada por la siguiente expresión. Visualmente en la pantalla se observará algo similar a lo mostrado en la figura siguiente.\n",
    "\n",
    "$$I_P(x) \\propto |E_0|^2\\left[\\frac{1}{r_1^2}+\\frac{1}{r_2^2}+\\frac{1}{r_1r_2}\\cos k\\left(r_2-r_1\\right)\\right]$$"
   ]
  },
  {
   "cell_type": "markdown",
   "metadata": {
    "collapsed": false
   },
   "source": [
    "El tercer término en la ecuación anterior es el que modula la irradiancia en la pantalla. Así en un punto $P_h$ de la \n",
    "pantalla habrá un máximo de irradiancia si se verifica la siguiente condición.\n",
    " \n",
    "$$ k·\\frac{a·x}{D} = 1 $$\n",
    "\n",
    "esto es,  \n",
    "\n",
    "$$\\frac{kax}{D}=2m\\pi, \\,\\,\\,\\,\\,\\,\\,\\, \\mathrm{donde} \\,\\,\\,\\,\\,\\,\\,\\,  m=0,\\,\\pm 1,\\,\\pm 2...,$$\n",
    "\n",
    "Los máximos ocurren en los puntos: \n",
    "\n",
    "$$x =m \\frac{\\lambda D}{a}$$\n",
    "\n",
    "y son una sucesión de franjas paralelas al eje $Z$ y equidistantes. La distancia que hay entre dos máximos o mínimos de interferencia, $Int$, se denomina **interfranja** y  su valor viene dado por la expresión siguiente.\n",
    "\n",
    "$$Int = \\frac{\\lambda D}{a}$$\n",
    "\n",
    "# 3. Biprisma de Fresnel\n",
    "\n",
    "Hay diferentes dispositivos que son equivalentes al sistema de dos rendijas originariamente empleado por Thomas Young. Aqui vamos a considerar el dispositivo llamado **biprisma de Fresnel**, el cual nos permitirá variar fácilmente la separación entre las rendijas o fuentes secundarias.\n",
    "\n",
    "En la figura siguiente se muestra cómo el biprisma produce dos fuentes  secundarias de radiación equivalentes a las dos rendijas del dispositivo de Young que se ha descrito anteriormente. La luz que emerge por la parte superior del biprisma lo hace tal como si procediera de $S_1$, mientras que la parte del haz refractada por la parte inferior se propaga como si procediera de $S_2$. Por lo tanto, a la derecha del biprisma tenemos la superposición de dos ondas esféricas procedentes de $S_1$ y $S_2$, respectivamente. El plano donde se encuentran estas fuentes virtuales es equivalente al plano de las rendijas en el experimento de Young.\n",
    "\n",
    "![biprisma](Biprisma1.jpg)\n",
    "\n",
    "# 4. Práctica de medida de la longitud de onda de emisión de un Láser de He-Ne con ayuda de un biprisma de Fresnel.\n",
    "\n",
    "El dispositivo experimental con el que vamos a trabajar consiste en un láser de He-Ne, un objetivo de microscopio, un biprisma y una pantalla de observación situada al final del banco óptico. La luz procedente de láser se hace incidir sobre el objetivo de microscopio, $OM$, cuya función consiste en focalizar el haz de luz y obtener así una fuente casi puntual, $S$, como se muestra en la figura.\n",
    "\n",
    "![biprisma2](Biprisma2.jpg)\n"
   ]
  },
  {
   "cell_type": "markdown",
   "metadata": {
    "collapsed": false
   },
   "source": [
    "# 5. Ejercicios previos a la sesión de prácticas\n",
    "\n",
    "A continuación se presenta una simulación de la primera parte de la práctica a llevar a cabo en el laboratorio. Nuestro objetivo es hallar la longitud de onda $\\lambda$ de la radiacion que ilumina el Biprisma de Fresnel utilizando la expresion ya mencionada anteriormente,\n",
    "\n",
    "$$Int = \\frac{\\lambda D}{a} \\Rightarrow \\lambda = \\frac{Int a}{D}$$\n",
    "\n",
    "Para ello, primero mediremos la interfranja del patron de interferencias generado cuando iluminamos con una fuente puntual el Biprisma de Fresnel para una distancia de trabajo $D$. A continuacion, mediremos el valor de la separacion entre las fuentes virtuales $a$ y utilizaremos la anterior expresion para obtener $\\lambda$.\n",
    "\n",
    "------------\n",
    "\n",
    "En primer lugar, se presenta a la izquierda una un esquema del montaje experimental: fuente puntual, biprisma de Fresnel (en rojo) y pantalla donde se visualizan las franjas de interferencia producidas por el biprisma. La distancia entre la fuente y el biprisma puede ser modificada moviendo el desplazador que se muestra justo encima de este esquema. A la derecha, se muestra el patron de interferencias (completo y una imagen ampliada de 6 mm de longitud en la zona central del patron), y el valor de la interfranja para la distancia fuente-biprisma fijada. Moviendo el desplazador, se puede observar como cambia el patron y el valor de la interfranja asociado."
   ]
  },
  {
   "cell_type": "code",
   "execution_count": 1,
   "metadata": {
    "collapsed": false
   },
   "outputs": [
   ],
   "source": [
    "import warnings\n",
    "warnings.filterwarnings('ignore')\n",
    "import numpy as np\n",
    "import matplotlib.pyplot as plt\n",
    "%matplotlib inline\n",
    "plt.style.use('bmh')\n",
    "import ipywidgets as widgets\n",
    "from IPython.display import display\n",
    "import io\n",
    "import base64\n",
    "from IPython.display import clear_output\n",
    "#Datos fijos\n",
    "###################33\n",
    "D = 3\n",
    "Lambda = 6.32e-7 # longitud de onda de la radiación de 500 nm\n",
    "k = 2.0*np.pi/Lambda\n",
    "n = 1.33 # agua\n",
    "alpha = 0.7*np.pi/180\n",
    "y0 = 10\n",
    "yrepres = 14 # in mm\n",
    "###########################3\n",
    "I1 = 1 # Consideramos irradiancias normalizadas a un cierto valor.\n",
    "I2 = 1\n",
    "\n",
    "fig,ax = plt.subplots(1,1)\n",
    "ax.plot(0,0,'o',lw=2)\n",
    "ax.set_xlim(-0.1,D+0.1)\n",
    "ax.set_ylim(-yrepres*1.5,yrepres*1.5)\n",
    "ax.set_xlabel(\"x (m)\")\n",
    "ax.set_ylabel(\"y (mm)\")\n",
    "ax.set_title('Esquema del montaje experimental')\n",
    "line1, = ax.plot(np.linspace(-1,D,50),np.zeros(50),'k')\n",
    "buf = io.BytesIO()\n",
    "plt.savefig(buf, format='png')\n",
    "buf.seek(0)\n",
    "figwidg = widgets.HTML(\"\"\"<img src='data:image/png;base64,{}'/>\"\"\".format(base64.b64encode(buf.getvalue()).decode('ascii')))\n",
    "plt.close(fig)\n",
    "\n",
    "fig2,ax2 = plt.subplots(1,1)\n",
    "ax2.set_xlabel(\"x (mm)\")\n",
    "ax2.set_ylabel(\"y (mm)\")\n",
    "#ax2.set_xlim(0,x.max()*1e3)\n",
    "#ax2.set_ylim(-yrepres,yrepres)\n",
    "ax2.set_title('Pantalla')\n",
    "ax2.pcolormesh(np.zeros((500,500)))\n",
    "buf2 = io.BytesIO()\n",
    "plt.savefig(buf2, format='png')\n",
    "buf2.seek(0)\n",
    "figwidg2 = widgets.HTML(\"\"\"<img src='data:image/png;base64,{}'/>\"\"\".format(base64.b64encode(buf2.getvalue()).decode('ascii')))\n",
    "#figbox = widgets.HBox([figwidg,figwidg2])\n",
    "plt.close(fig2)\n",
    "clear_output()\n",
    "\n",
    "fig3,ax3 = plt.subplots(1,1)\n",
    "ax3.set_ylabel(\"y (mm)\")\n",
    "ax3.set_title('Zoom (3 mm)')\n",
    "ax3.pcolormesh(np.zeros((50,50)))\n",
    "buf3 = io.BytesIO()\n",
    "plt.savefig(buf3, format='png')\n",
    "buf3.seek(0)\n",
    "figwidg3 = widgets.HTML(\"\"\"<img src='data:image/png;base64,{}'/>\"\"\".format(base64.b64encode(buf3.getvalue()).decode('ascii')))\n",
    "figbox = widgets.HBox([figwidg,figwidg2,figwidg3])\n",
    "plt.close(fig3)\n",
    "clear_output()\n",
    "\n",
    "#########\n",
    "Interfwidg = widgets.FloatText(0,description='Int. (mm)',color='#C13535')\n",
    "\n",
    "def changeBiprism(x0=0.1):\n",
    "    a = 2*x0*np.tan((n-1)*alpha) #separacion entre fuentes virtuales\n",
    "    interfranja = Lambda*D/a \n",
    "    xlimit = (D-x0)*np.tan((n-1)*alpha) # distancia desde el eje que ocupa el patron de interferencias\n",
    "    Pasoespacial = interfranja/20\n",
    "    xpantalla = np.linspace(-xlimit*1.2,xlimit*1.2,round(xlimit/Pasoespacial))\n",
    "    X,Y = np.meshgrid(xpantalla,xpantalla)\n",
    "    delta = (k*a*X/D)\n",
    "    Itotal = I1 + I2 + (2.0*np.sqrt(I1*I2)*np.cos(delta))*(np.abs(X)<xlimit)\n",
    "    figwidg.observe(repsetup(x0),names='new')\n",
    "    figwidg2.observe(repfringes(xpantalla,Itotal),names='new')\n",
    "    figwidg3.observe(repzoom(xpantalla,Itotal),names='new')\n",
    "    Interfwidg.observe(updateInterf(interfranja),names='new')\n",
    "    return\n",
    "\n",
    "def updateInterf(interfranja):\n",
    "    Interfwidg.value=round(interfranja*1e3,2)\n",
    "    return\n",
    "    \n",
    "\n",
    "def repsetup(x0):\n",
    "    fig,ax = plt.subplots(1,1,figsize=(7,5))\n",
    "    ax.plot(0,0,'o',lw=2)\n",
    "    ax.set_xlim(-0.1,D+0.1)\n",
    "    ax.set_ylim(-yrepres*1.5,yrepres*1.5)\n",
    "    ax.set_xlabel(\"x (m)\")\n",
    "    ax.set_ylabel(\"y (mm)\")\n",
    "    ax.set_title('Esquema del montaje experimental')\n",
    "    ax.plot(np.linspace(-1,D,50),np.zeros(50),'k')\n",
    "    ax.vlines(x0,-y0,y0,'r',lw=2)\n",
    "    ax.vlines(D,-y0*3,y0*3,lw=4)\n",
    "    ax.plot(np.linspace(x0,x0+.02,D),(-y0/.02)*np.linspace(x0,x0+.02,D) + y0*(1+x0/.02),'r',lw=2)\n",
    "    ax.plot(np.linspace(x0,x0+.02,D),(y0/.02)*np.linspace(x0,x0+.02,D) - y0*(1+x0/.02),'r',lw=2)\n",
    "    buf = io.BytesIO()\n",
    "    plt.savefig(buf, format='png')\n",
    "    buf.seek(0)\n",
    "    clear_output()\n",
    "    figwidg.value =\"\"\"<img src='data:image/png;base64,{}'/>\"\"\".format(base64.b64encode(buf.getvalue()).decode('ascii'))\n",
    "    clear_output()\n",
    "    plt.close(fig)\n",
    "    return\n",
    "\n",
    "def repfringes(x,Itotal):\n",
    "    fig2,ax2 = plt.subplots(1,1,figsize=(3,5))\n",
    "    ax2.set_ylabel(\"y (mm)\")\n",
    "    ax2.set_xlim(0,x.max()*1e3)\n",
    "    ax2.set_ylim(-yrepres,yrepres)\n",
    "    ax2.set_title('Pantalla')\n",
    "    ax2.pcolormesh(x*1e3,x*1e3,Itotal.T,cmap = 'gray',vmin=0,vmax=4)\n",
    "    buf2 = io.BytesIO()\n",
    "    plt.savefig(buf2, format='png')\n",
    "    buf2.seek(0)\n",
    "    clear_output()\n",
    "    figwidg2.value =\"\"\"<img src='data:image/png;base64,{}'/>\"\"\".format(base64.b64encode(buf2.getvalue()).decode('ascii'))\n",
    "    clear_output()\n",
    "    plt.close(fig2)\n",
    "    return\n",
    "\n",
    "def repzoom(x,Itotal):\n",
    "    fig3,ax3 = plt.subplots(1,1,figsize=(3,5))\n",
    "    ax3.set_ylabel(\"y (mm)\")\n",
    "    ax3.set_xlim(0,x.max()*1e3)\n",
    "    ax3.set_ylim(-3,3)\n",
    "    ax3.set_title('Zoom (3 mm)')\n",
    "    ax3.pcolormesh(x*1e3,x*1e3,Itotal.T,cmap = 'gray',vmin=0,vmax=4)\n",
    "    buf3 = io.BytesIO()\n",
    "    plt.savefig(buf3, format='png')\n",
    "    buf3.seek(0)\n",
    "    clear_output()\n",
    "    figwidg3.value =\"\"\"<img src='data:image/png;base64,{}'/>\"\"\".format(base64.b64encode(buf3.getvalue()).decode('ascii'))\n",
    "    clear_output()\n",
    "    plt.close(fig3)\n",
    "    return\n",
    "\n",
    "\n",
    "Positionwidg = widgets.FloatSlider(value=0.5,min=0.02,max=1.0,step=0.1,description='Dist fuente-biprism',orientation='horizontal')\n",
    "changepos = widgets.interactive(changeBiprism,x0=Positionwidg)\n",
    "resultswidg = widgets.HBox([figbox,Interfwidg])\n",
    "display(changepos,resultswidg)"
   ]
  },
  {
   "cell_type": "markdown",
   "metadata": {
    "collapsed": false
   },
   "source": [
    "* Mueve el desplazador hasta la distancia recomendada en el guion de la Practica 1 del laboratorio de la asignatura y anota el valor de la interfranja mostrado para el patron de interferencias resultante en la siguiente celda"
   ]
  },
  {
   "cell_type": "code",
   "execution_count": 0,
   "metadata": {
    "collapsed": true
   },
   "outputs": [
   ],
   "source": [
    "# Escribe el valor de la interfranja obtenido despues del signo igual a continuacion\n",
    "Interfranja = "
   ]
  },
  {
   "cell_type": "markdown",
   "metadata": {
    "collapsed": false
   },
   "source": [
    "Para medir la separacion entre las dos fuentes virtuales creadas por el biprisma, no podemos hacerlo directamente en el laboratorio. Sin embargo, si colocamos una lente convergente despues del biprisma, esta formara una imagen real de esas fuentes virtuales, la cual si podemos medir en el laboratorio. La figura siguiente muestra el montaje que se llevara a cabo en el laboratorio.\n",
    "\n",
    "![biprisma4](Biprisma4.jpg)\n",
    "\n",
    "\n",
    "En la siguiente simulacion, se plantea esta situacion. La figura a la izquierda reproduce el montaje experimental, pudiendo utilizar el desplazador para mover la posicion de la lente. La figura de la derecha muestra lo que se veria en la pantalla. Cuando la lente se encuentre en su posicion correcta, se formara en ella la imagen de las dos fuentes virtuales generadas por el biprisma. En la simulacion, apareceran los dos puntos mas definidos y mas pequeños. Finalmente, tambien se muestra el valor de la separacion entre esas imagenes virtuales $a'$.\n",
    "\n",
    "Se propone por tanto mover la lente hasta que las imagenes se vean lo mas nitidas posibles, lo que nos permitira obtener los parametros que nos faltan para calcular la longitud de onda $\\lambda$."
   ]
  },
  {
   "cell_type": "code",
   "execution_count": 29,
   "metadata": {
    "collapsed": false
   },
   "outputs": [
   ],
   "source": [
    "from matplotlib.patches import Circle\n",
    "\n",
    "#Focal de la lente\n",
    "fp = 0.2\n",
    "# Separacion entre fuentes virtuales\n",
    "x0 = Positionwidg.value\n",
    "a = 2*x0*np.tan((n-1)*alpha) #separacion entre fuentes virtuales\n",
    "xlimit = (D-x0)*np.tan((n-1)*alpha) # distancia desde el eje que ocupa el patron de interferencias\n",
    "\n",
    "fig,ax = plt.subplots(1,1)\n",
    "ax.plot(0,0,'o',lw=2)\n",
    "ax.set_xlim(-0.1,D+0.1)\n",
    "ax.set_ylim(-yrepres*1.5,yrepres*1.5)\n",
    "ax.set_xlabel(\"x (m)\")\n",
    "ax.set_ylabel(\"y (mm)\")\n",
    "ax.set_title('Esquema del montaje experimental')\n",
    "line1, = ax.plot(np.linspace(-1,D,50),np.zeros(50),'k')\n",
    "buf = io.BytesIO()\n",
    "plt.savefig(buf, format='png')\n",
    "buf.seek(0)\n",
    "figwidg = widgets.HTML(\"\"\"<img src='data:image/png;base64,{}'/>\"\"\".format(base64.b64encode(buf.getvalue()).decode('ascii')))\n",
    "plt.close(fig)\n",
    "\n",
    "fig2,ax2 = plt.subplots(1,1)\n",
    "ax2.set_xlabel(\"x (mm)\")\n",
    "ax2.set_ylabel(\"y (mm)\")\n",
    "#ax2.set_xlim(0,x.max()*1e3)\n",
    "#ax2.set_ylim(-yrepres,yrepres)\n",
    "ax2.set_title('Pantalla')\n",
    "ax2.pcolormesh(np.zeros((500,500)))\n",
    "buf2 = io.BytesIO()\n",
    "plt.savefig(buf2, format='png')\n",
    "buf2.seek(0)\n",
    "figwidg2 = widgets.HTML(\"\"\"<img src='data:image/png;base64,{}'/>\"\"\".format(base64.b64encode(buf2.getvalue()).decode('ascii')))\n",
    "figboxlens = widgets.HBox([figwidg,figwidg2])\n",
    "plt.close(fig2)\n",
    "clear_output()\n",
    "\n",
    "#########\n",
    "aprimawidg = widgets.FloatText(0,description='a\\'. (mm)',color='#C13535')\n",
    "\n",
    "def changelens(xlens=D-0.1):\n",
    "    s = -xlens\n",
    "    sp = D - xlens\n",
    "    beta = sp/s\n",
    "    aprima = beta*a\n",
    "    figwidg.observe(repsetuplens(xlens),names='new')\n",
    "    spref = (D + np.sqrt(D**2 - 4*fp*D))/2 #Posicion correcta\n",
    "    sref = spref-D\n",
    "    figwidg2.observe(repimage(xlens,sref,aprima),names='new')\n",
    "    aprimawidg.observe(updateaprima(aprima),names='new')\n",
    "    return\n",
    "\n",
    "def updateaprima(aprima):\n",
    "    aprimawidg.value=round(-aprima*1e3,2) # en mm\n",
    "    return\n",
    "    \n",
    "\n",
    "def repsetuplens(xlens):\n",
    "    fig,ax = plt.subplots(1,1,figsize=(7,5))\n",
    "    ax.plot(0,0,'o',lw=2)\n",
    "    ax.set_xlim(-0.1,D+0.1)\n",
    "    ax.set_ylim(-yrepres*1.5,yrepres*1.5)\n",
    "    ax.set_xlabel(\"x (m)\")\n",
    "    ax.set_ylabel(\"y (mm)\")\n",
    "    ax.set_title('Esquema del montaje experimental')\n",
    "    ax.plot(np.linspace(-1,D,50),np.zeros(50),'k')\n",
    "    ax.vlines(x0,-y0,y0,'r',lw=2)\n",
    "    ax.vlines(D,-y0*3,y0*3,lw=4)\n",
    "    ax.plot(np.linspace(x0,x0+.02,D),(-y0/.02)*np.linspace(x0,x0+.02,D) + y0*(1+x0/.02),'r',lw=2)\n",
    "    ax.plot(np.linspace(x0,x0+.02,D),(y0/.02)*np.linspace(x0,x0+.02,D) - y0*(1+x0/.02),'r',lw=2)\n",
    "    ax.annotate(\"\", xy=(np.abs(xlens), y0*1.5), xytext=(np.abs(xlens),-y0*1.5),\n",
    "    arrowprops=dict(arrowstyle=\"<->\",color='k')) # representacion lente\n",
    "    buf = io.BytesIO()\n",
    "    plt.savefig(buf, format='png')\n",
    "    buf.seek(0)\n",
    "    clear_output()\n",
    "    figwidg.value =\"\"\"<img src='data:image/png;base64,{}'/>\"\"\".format(base64.b64encode(buf.getvalue()).decode('ascii'))\n",
    "    clear_output()\n",
    "    plt.close(fig)\n",
    "    return\n",
    "\n",
    "def repimage(xlens,sref,ap):\n",
    "    fig2,ax2 = plt.subplots(1,1,figsize=(4,4))\n",
    "    rad = 3*(xlens+ sref)**2 + 0.6 # Nota: sref < 0\n",
    "    circle1 = Circle((0,-ap*1e3/2), radius=rad, color='r',alpha = 1 - np.abs(xlens+sref))\n",
    "    circle2 = Circle((0,ap*1e3/2), radius=rad, color='r',alpha = 1- np.abs(xlens+sref))\n",
    "    ax2.add_artist(circle1)\n",
    "    ax2.add_artist(circle2)\n",
    "    ax2.set_ylabel(\"y (mm)\")\n",
    "    ax2.set_xlim(-yrepres,yrepres)\n",
    "    ax2.set_ylim(-yrepres,yrepres)\n",
    "    ax2.set_title('Pantalla')\n",
    "    buf2 = io.BytesIO()\n",
    "    plt.savefig(buf2, format='png')\n",
    "    buf2.seek(0)\n",
    "    clear_output()\n",
    "    figwidg2.value =\"\"\"<img src='data:image/png;base64,{}'/>\"\"\".format(base64.b64encode(buf2.getvalue()).decode('ascii'))\n",
    "    clear_output()\n",
    "    plt.close(fig2)\n",
    "    return\n",
    "\n",
    "\n",
    "PosLenswidg = widgets.FloatSlider(value=1,min=x0+0.05,max=1.0,step=0.03,description='Dist Fuente-Lente',orientation='horizontal')\n",
    "changeposlens = widgets.interactive(changelens,xlens=PosLenswidg)\n",
    "finalwidg = widgets.HBox([figboxlens,aprimawidg])\n",
    "display(changeposlens,finalwidg)"
   ]
  },
  {
   "cell_type": "markdown",
   "metadata": {
    "collapsed": true
   },
   "source": [
    "* Anota el valor de la separacion entre las imagenes de las fuentes virtuales que aparecen en la anterior grafica."
   ]
  },
  {
   "cell_type": "code",
   "execution_count": 0,
   "metadata": {
    "collapsed": true
   },
   "outputs": [
   ],
   "source": [
    "a_prima = "
   ]
  },
  {
   "cell_type": "markdown",
   "metadata": {
    "collapsed": false
   },
   "source": [
    "* Calcula, utilizando el valor del aumento dado por la lente convergente el valor de la separacion entre las fuentes virtuales generadas por el biprisma. Utilizar los valores de la distancia objeto-lente ($s$) y lente-imagen ($sprima$) para el calculo del aumento. Anotar en la celda siguiente el valor del aumento obtenido y el valor de la separacion $a$ obtenida."
   ]
  },
  {
   "cell_type": "code",
   "execution_count": 0,
   "metadata": {
    "collapsed": true
   },
   "outputs": [
   ],
   "source": [
    "aumento = \n",
    "a = "
   ]
  },
  {
   "cell_type": "markdown",
   "metadata": {
    "collapsed": false
   },
   "source": [
    "* Finalmente, obtener el valor de la longitud de onda $\\lambda$ utilizando los valores obtenidos en los anteriores apartados. Anotar el valor obtenido en la siguiente celda"
   ]
  },
  {
   "cell_type": "code",
   "execution_count": 0,
   "metadata": {
    "collapsed": true
   },
   "outputs": [
   ],
   "source": [
    "long_de_onda = "
   ]
  }
 ],
 "metadata": {
  "kernelspec": {
   "display_name": "Python 3 (Ubuntu Linux)",
   "language": "python",
   "name": "python3"
  },
  "language_info": {
   "codemirror_mode": {
    "name": "ipython",
    "version": 3
   },
   "file_extension": ".py",
   "mimetype": "text/x-python",
   "name": "python",
   "nbconvert_exporter": "python",
   "pygments_lexer": "ipython3",
   "version": "3.4.3+"
  }
 },
 "nbformat": 4,
 "nbformat_minor": 0
}
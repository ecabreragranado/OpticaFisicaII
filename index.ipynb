{
 "cells": [
  {
   "cell_type": "markdown",
   "metadata": {
    "collapsed": false
   },
   "source": [
    "# Indice de notebooks\n",
    "\n",
    "\n",
    "1. Fundamentos de las interferencias de ondas electromagneticas\n",
    "    \n",
    "    1.1 [Interferencia de 2 ondas](./Interferencia\\ 2\\ Ondas/Interferencia2Ondas.ipynb)\n",
    "    \n",
    "    1.2 [Experimento de Young](./Experimento\\ de\\ Young/ExperimentoYoung.ipynb)\n",
    "    \n",
    "    1.3 [Experimento de Young con trenes de onda. Coherencia longitudinal](./Experimento\\ de\\ Young/Trenes\\ de\\ Onda.ipynb)\n",
    "    \n",
    "    1.4 [Biprisma de Fresnel](./Experimento\\ de\\ Young/Biprisma\\ de\\ Fresnel_Ejercicio.ipynb)\n",
    "    \n",
    "2. Aplicaciones de las interferencias\n",
    "\n",
    "    2.1 [Tratamiento Antirreflejante](./TratamientoAntirreflejante/Tratamiento_Antirreflejante_Ejercicio.ipynb)\n",
    "    \n",
    "    2.2 [Interferencia multiples ondas. Interferometro Fabry-Perot](./Interferencia\\ Múltiples\\ Ondas/InterferenciaMultiplesOndas.ipynb)\n",
    "    \n",
    "    2.3 [Anillos de Newton](./Anillos\\ de\\ Newton/Anillos\\ de\\ Newton.ipynb)\n",
    "    \n",
    "    2.4 [Determinacion del radio de una lente oftalmica. Anillos de Newton](./Trabajo\\ Anillos\\ de\\ Newton/Anillos\\ de\\ Newton_Ejercicio.ipynb)\n",
    "    \n",
    "    2.5 [Filtros interferenciales](./Trabajo\\ Filtro\\ Interferencial/Filtro_interferencial.ipynb)\n",
    "    \n",
    "    2.6 [OCT](./OCT/OCT.ipynb)\n",
    "    \n",
    "3. Difraccion\n",
    "\n",
    "    3.1 [Difraccion de Fraunhofer](./DifraccionFraunhofer/DifraccionFraunhofer.ipynb)\n",
    "    \n",
    "    3.2 [Medida de dimensiones de aberturas](./DifraccionFraunhofer/Difraccion_Ejercicio.ipynb)\n",
    "    \n",
    "    3.3 [Poder de resolucion](./DifraccionFraunhofer/PoderDeResolucion.ipynb)\n",
    "    \n",
    "    3.4 [Red de difraccion](./RedDifraccion/Red\\ de\\ Difraccion.ipynb)\n",
    "    \n",
    "    3.5 [Teoria de Abbe de la formacion de la imagen](./TeoriaAbbe/TeoriaAbbe.ipynb)\n",
    "    \n",
    "    3.5 [Teoria difraccional de la imagen](./Teoria\\ Difraccional\\ de\\ la\\ Imagen/TeoriaDifraccionalImagen.ipynb)\n"
   ]
  }
 ],
 "metadata": {
  "kernelspec": {
   "display_name": "SageMath",
   "name": "sagemath"
  },
  "language_info": {
   "codemirror_mode": {
    "name": "ipython",
    "version": 2
   },
   "file_extension": ".py",
   "mimetype": "text/x-python",
   "name": "python",
   "nbconvert_exporter": "python",
   "pygments_lexer": "ipython2",
   "version": "2.7.13"
  }
 },
 "nbformat": 4,
 "nbformat_minor": 0
}
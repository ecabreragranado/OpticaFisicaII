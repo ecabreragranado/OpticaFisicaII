{
 "cells": [
  {
   "cell_type": "markdown",
   "metadata": {},
   "source": [
    "## Interferencia por haces múltiples. Filtros interferenciales."
   ]
  },
  {
   "cell_type": "markdown",
   "metadata": {},
   "source": [
    "El siguiente notebook explica la irradiancia obtenida en transmisión y reflexión cuando un haz incide en una lámina delgada planoparalela considerando las múltiples reflexiones internas que se producen en dicha lámina. Se asume que el estudiante conoce el caso de interferencia por las dos primeras ondas reflejadas o transmitidas"
   ]
  },
  {
   "cell_type": "markdown",
   "metadata": {},
   "source": [
    "#### Planteamiento del problema"
   ]
  },
  {
   "cell_type": "markdown",
   "metadata": {},
   "source": [
    "Consideremos una lámina planoparalela de espesor *h* e índice de refracción *n*, rodeada de aire. El tratamiento con las 2 primeras ondas reflejadas o transmitidas, es una aproximación válida cuando los coeficientes de reflexión son bajos. En caso contrario, se hace necesario considerar todas las reflexiones internas producidas en la lámina, y consecuentemente, todas las ondas transmitidas o reflejadas. \n",
    "\n",
    "Vamos a ver qué ocurre con la irradiancia transmitida y reflejada en este caso. Lo que nos interesa es ver si \n",
    "\n",
    "* cambia la posición de los máximos/mínimos obtenidos en el caso de la interferencia con 2 ondas.\n",
    "* cambia el contraste."
   ]
  },
  {
   "cell_type": "code",
   "execution_count": 2,
   "metadata": {
    "collapsed": false
   },
   "outputs": [],
   "source": [
    "from IPython.core.display import Image\n",
    "Image(\"http://upload.wikimedia.org/wikipedia/commons/thumb/8/89/Multiple_beam_interference.png/580px-Multiple_beam_interference.png\")"
   ]
  }
 ],
 "metadata": {
  "kernelspec": {
   "display_name": "Python 3",
   "language": "python",
   "name": "python3"
  },
  "language_info": {
   "codemirror_mode": {
    "name": "ipython",
    "version": 3
   },
   "file_extension": ".py",
   "mimetype": "text/x-python",
   "name": "python",
   "nbconvert_exporter": "python",
   "pygments_lexer": "ipython3",
   "version": "3.4.3+"
  }
 },
 "nbformat": 4,
 "nbformat_minor": 0
}

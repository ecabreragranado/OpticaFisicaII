{
 "cells": [
  {
   "cell_type": "markdown",
   "metadata": {
    "collapsed": false
   },
   "source": [
    "# Introducción"
   ]
  },
  {
   "cell_type": "markdown",
   "metadata": {
    "collapsed": false
   },
   "source": [
    "La Óptica Geométrica (OG) proporciona herramientas muy útiles para analizar los sistemas ópticos. Sin embargo, el modelo de propagación de la luz por medio de rayos no incluye los efectos debidos al carácter  ondulatorio de la luz. En particular, la OG predice para un sistema estigmático que la imagen de un punto O localizado en el plano objeto es otro punto O' situado en el plano imagen. Esta imagen no se corresponde exactamente con la realidad. En sistemas ópticos perfectos (libres de aberraciones), se encuentra que la imagen de un punto es una mancha extensa, debido a la difracción que sufre la onda luminosa. Este efecto sucede siempre que la luz atraviesa un sistema óptico que obstruye parcialmente los frentes de onda debido a la presencia de diafragmas o por el propio tamaño finito de las lentes.\n",
    "\n",
    "El ejemplo más sencillo de difracción es el paso de la luz a través de una apertura circular. En este caso, se puede apreciar en una pantalla situada detrás de la lente una mancha circular compuesta             \n",
    "por diferentes anillos, y denominada mancha de Airy. El ángulo subtendido por el primer mínimo de irradiancia es donde D es el diámetero de la apertura y $\\lambda$ es la longitud de onda de la luz. Debido al uso generalizado de lentes y diafragmas circulares, esta figura aparecerá como imagen O' de un punto objeto O en un sistema libre de aberraciones, alejándose por tanto de las predicciones de la OG y limitando la resolución de dos puntos objeto muy cercanos entre sí.         \n",
    "\n",
    "![Mancha de Airy](283px-Airy-pattern.svg.png)\n",
    "\n",
    "Este caso representativo permite mostrar que la difracción va a jugar un papel importante en la formación de la imagen. Cuando tenemos en cuenta estos efectos en el cálculo de la imagen dada por un sistema óptico hablamos de teoría difraccional de la imagen.\n",
    "\n",
    "Al analizar la formación de la imagen de objetos extensos, se pueden seguir dos enfoques alternativos:\n",
    "\n",
    "1. La imagen del objeto extenso está formada por la composición de las imágenes de cada uno de los puntos que forman el objeto. En este enfoque, el elemento fundamental que nos permite obtener la imagen global dada por el sistema es la imagen de un único punto objeto. A esta imagen se le denomina Función de Dispersión de Punto (PSF por sus siglas en inglés) Sabiendo esta información, podemos reconstruir toda la imagen.\n",
    "\n",
    "2. El objeto extenso puede descomponerse en tramas o redes sinusoidales de distinto periodo y distinta orientación. La imagen resulta de la composición de todas las imágenes correspondientes a cada una de estas tramas. O dicho de otro modo, se analiza la respuesta del sistema en el espacio de frecuencias. Este enfoque nos llevará a definir la Función de Transferencia Óptica (OTF por sus siglas en inglés), la Función de Transferencia de Modulación (MTF) y la Función de Transferencia de Fase (PTF)."
   ]
  },
  {
   "cell_type": "markdown",
   "metadata": {
    "collapsed": false
   },
   "source": [
    "# Función de Dispersión de Punto (PSF)"
   ]
  },
  {
   "cell_type": "markdown",
   "metadata": {
    "collapsed": false
   },
   "source": [
    "La Función de Dispersión de Punto o Point Spread Function (PSF) de un sistema óptico proporciona la imagen de un objeto puntual dada por dicho sistema. Sabiendo qué imagen obtenemos de un único punto, podemos deducir la imagen global de un objeto extenso. La deducción de la irradiancia en la imagen que obtenemos al considerar un objeto puntual no es complicada y se puede consultar en libros más especializados como por ejemplo [Introduction to Fourier Optics de Joseph W. Goodman](http://cisne.sim.ucm.es/search~S6*spi?/Xintroduction+to+fourier+optics&SORT=D/Xintroduction+to+fourier+optics&SORT=D&SUBKEY=introduction+to+fourier+optics/1%2C32%2C32%2CB/frameset&FF=Xintroduction+to+fourier+optics&SORT=D&1%2C1%2C).\n",
    "\n",
    "El resultado principal es que la Función de Dispersión de Punto es proporcional al cuadrado de la transformada de Fourier de la función pupila de nuestro sistema óptico. Es decir, \n",
    "\n",
    "$$PSF(x,y) \\propto |FT[P(x,y)]|^2$$\n",
    "\n",
    "donde la función púpila, para el caso de una única lente toma el valor 1 dentro de la lente, y 0 fuera de ella. Esta operación nos da para este caso que la PSF es la función de Airy, la cual ya es conocida dentro del marco de la difracción producida por una abertura circular. \n",
    "\n",
    "Una consecuencia de lo mostrado anteriormente es que la difracción impone un límite de resolución último para los sistemas ópticos. Incluso en un sistema completamente libre de aberraciones, la imagen de un punto no es un punto, sino una mancha más o menos extensa, dependiendo del diámetro de la lente. Cuando las imágenes de dos puntos muy cercanos se solapen, no podrán distinguirse, existiendo un ángulo mínimo de resolución para discriminar dos puntos objeto puntuales. El criterio más usado para decidir si dos puntos próximos son resolubles por un sistema óptico es el denominado criterio de Rayleigh.\n",
    "\n",
    "Si en vez de un objeto puntual tenemos un objeto extenso, cada punto del objeto dará lugar en la imagen a una mancha de difracción. Lo podemos interpretar como si cada punto de la imagen dada por la Óptica Geométrica se sustituyera por la PSF del sistema, resultando por tanto en un detrimento de la calidad de la imagen.\n",
    "\n",
    "Si el objeto lo representamos por su distribución de irradiancia O(x,y), la irradiancia en un punto del plano imagen I(u,v) se obtendrá sumando la contribución de todas las imágenes de cada uno de los puntos del objeto. Al considerar iluminación incoherente, esta suma se realiza sobre las irradiancias resultantes de la imagen de cada punto del plano de observación.\n",
    "\n",
    "$$I(u,v) = O(x_0,y_0)PSF(u - x_0, v -y_0) + O(x_1,y_1)PSF(u - x_1, v -y_1) + \\ldots $$\n",
    "\n",
    "\n",
    "o lo que es lo mismo, y dado que la distribución de irradiancia es una función contínua, \n",
    "\n",
    "$$I(u,v) = \\int \\int O(x,y) PSF(u-x, v-y)dxdy$$\n",
    "\n",
    "a esta operación se le denomina convolución. Por tanto, dada la PSF de un sistema óptico, podemos hallar la imagen de cualquier objeto extenso.\n",
    "\n",
    "![Convolución con PSF](Convolution_Illustrated_eng.png)"
   ]
  },
  {
   "cell_type": "markdown",
   "metadata": {
    "collapsed": false
   },
   "source": [
    "# Función de Transferencia de Modulación (MTF)"
   ]
  },
  {
   "cell_type": "markdown",
   "metadata": {
    "collapsed": false
   },
   "source": [
    "Podemos caracterizar un sistema óptico no solo por la imagen dada de un objeto puntual, sino\n",
    "analizando cómo se transmiten las diferentes frecuencias espaciales a través del sistema. Si\n",
    "conocemos esta información, y calculamos la descomposición en frecuencias del objeto extenso\n",
    "O(x,y) (mediante su transformada de Fourier), podemos obtener también su imagen.\n",
    "Para entender este enfoque, veamos qué ocurre con la imagen dada por un sistema óptico de un\n",
    "objeto sinusoidal, cuya irradiancia se representa de la siguiente forma,\n",
    "\n",
    "$$O(x,y) = 1+m  \\cos ( 2 \\pi ( ax+by ) )$$\n",
    "\n",
    "donde $m\\le 1$ . Este factor representa la amplitud de la modulación, o lo que es lo mismo, el contraste\n",
    "del objeto, definido por,\n",
    "\n",
    "$$C_{objeto} = \\frac{O_{max} - O_{min}}{O_{max} + O_{min}}$$\n",
    "\n",
    "Por otro lado, a y b son las frecuencias espaciales en las direcciones del eje X y eje Y\n",
    "respectivamente. La frecuencia total será $\\sqrt{a^2 +b^2}$. La imagen predicha por la OG de este objeto\n",
    "consistirá en la misma función afectada únicamente por el factor de aumento del sistema. Si\n",
    "consideramos los efectos de difracción, la imagen vendrá dada por la convolución de la PSF del\n",
    "sistema con la función O(x,y),\n",
    "\n",
    "$$I(u,v)=\\int \\int dxdy [1+ \\frac{C_{objeto}}{2} \\exp ( i 2 \\pi ( ax+by ) )+ \\frac{C_{objeto}}{2}  \\exp (−i 2 \\pi ( ax+by ) )] PSF(u−x,v−y)$$\n",
    " \n",
    "Si realizamos el cambio de variable $\\chi=u−x$,$d\\chi=−dx$ y $\\psi=v− y$,$d\\psi=−dy$ , considerando que la PSF se encuentra normalizada a área unidad y reagrupando algunos términos, obtenemos finalmente la expresión,\n",
    "\n",
    "$$I(u,v)=1+ \\frac{C_{objeto}}{2} \\exp ( i2\\pi ( au+bv ) )\\int \\int d\\chi d\\psi PSF (\\chi,\\psi ) \\exp(−i2\\pi ( a\\chi+b\\psi )) +\\ldots +\n",
    " \\frac{C_{objeto}}{2} \\exp ( −i ( 2 \\pi (au+bv ) )∫∫ d\\chi d\\psi PSF(\\chi,\\psi ) exp ( i2\\pi ( a\\chi+b\\psi ) )$$\n",
    "\n",
    "En la primera parte de esta expresión, podemos fijarnos que tenemos la transformada de Fourier de\n",
    "la PSF del sistema. A esta función se le denomina Función de Transferencia Óptica (OTF). En\n",
    "nuestro caso, dicha función está evaluada en las frecuencias espaciales a y b. La segunda parte de\n",
    "la expresión muestra el complejo conjugado de la OTF, ya que esta función es una función compleja.\n",
    "Si la escribimos separando su módulo y su fase\n",
    "\n",
    " $$OTF=∣OTF∣\\exp( i\\Phi_{OTF} )$$\n",
    "\n",
    "la ecuación anterior queda,\n",
    "\n",
    "\n",
    "$$I(u,v)= 1 + \\frac{C_{objeto}}{2} \\exp ( i2\\pi (au+bv))∣OTF∣ \\exp( i\\Phi_{OTF} ) +  \\frac{C_{objeto}}{2} \\exp(−i2 \\pi(au+bv))∣OTF∣\\exp(−i\\Phi_{OTF})$$\n",
    "\n",
    "La cual se puede reescribir finalmente como,\n",
    "\n",
    "$$I(u,v)=1 +C_{objeto} ∣OTF(a,b)∣ \\cos(2\\pi(au+bv) +\\Phi_{OTF})$$\n",
    "\n",
    "El resultado anterior nos muestra que la imagen de un objeto cosenoidal vuelve a ser una función\n",
    "coseno. El módulo de la OTF modifica el contraste de la imagen, que pasa a ser\n",
    "$C_{imagen} = C_{objeto}∣OTF∣$ mientras que la fase de la OTF produce un corrimiento de la fase del objeto. Al\n",
    "módulo de la OTF se le denomina Función de Transferencia de Modulación (MTF), y nos da\n",
    "información de cómo el sistema óptico modifica el contraste de la imagen en función de la frecuencia espacial. Por otro lado, a la fase se le denomina Función de Transferencia de Fase (PTF), y nos da cómo se modifica la fase del objeto, es decir, cómo se desplaza la imágen con respecto al objeto.\n",
    "\n",
    "En la figura a continuación se muestra el efecto de dos MTF distintas sobre la calidad de la imagen. Hay que tener en cuenta que la OTF y la PSF son dos formas distintas de describir un mismo proceso, la formación de la imagen por medio de un sistema óptico. Una PSF más ancha llevará consigo una MTF más estrecha y por tanto una frecuencia de corte menor. Es decir, el sistema será incapaz de reproducir las frecuencias más altas, asociadas a los detalles de la imagen.\n",
    "\n",
    "![MTF](500px-Illustration_of_the_optical_transfer_function_and_its_relation_to_image_quality..svg.png)"
   ]
  },
  {
   "cell_type": "markdown",
   "metadata": {
    "collapsed": false
   },
   "source": [
    "# Aberraciones y polinomios de Zernike"
   ]
  },
  {
   "cell_type": "markdown",
   "metadata": {
    "collapsed": false
   },
   "source": [
    "En el anterior desarrollo se ha asumido que si el objeto O es un punto ideal, el frente de ondas\n",
    "emergente de la pupila de salida del sistema optico es un frente de ondas esferico que converge en\n",
    "el punto imagen O' predicho por la OG. En este caso se dice que el sistema esta únicamente limitado\n",
    "por la difraccion. Sin embargo, la presencia de aberraciones puede modificar enormemente esta\n",
    "descripcion, y por tanto la PSF y la OTF del sistema.\n",
    "\n",
    "Cabe preguntarse pues como podemos tratar las aberraciones dentro de la teoria difraccional de la\n",
    "imagen. Es decir, como analizar las aberraciones incluyendo la naturaleza ondulatoria de la luz. Si,\n",
    "como hemos comentado, para un sistema perfecto en presencia de un objeto puntual el frente de\n",
    "ondas emergente es una onda esférica, en presencia de aberraciones el frente de ondas se alejara\n",
    "de esta forma ideal. De este modo, podemos caracterizar las aberraciones del sistema por medio de\n",
    "una función W(x,y) que nos dé la separacion en todo punto de la pupila de salida entre el frente de\n",
    "ondas real y el frente de ondas ideal esférico. Concretamente, W(x,y) mide la diferencia\n",
    "en camino óptico entre un rayo que pasa por un punto (x,y) de la pupila de salida del sistema y el\n",
    "rayo paraxial que pasa por ese mismo punto de la pupila de salida (vease figura).\n",
    "\n",
    "![wave aberration](wave_ab.jpg)\n",
    "\n",
    "Esta diferencia de camino optico se traducira en una diferencia de fase entre el frente de ondas real y\n",
    "el ideal $\\phi=i k W(x,y)$. Podemos por tanto definir una función pupila generalizada que incluya el\n",
    "tamaño y caracteristicas de la pupila de salida, así como esta fase adicional,\n",
    "\n",
    "$$P_{Gen}(x,y) = P(x,y) \\exp \\left( ik W(x,y) \\right)$$\n",
    "\n",
    "De este modo todas las expresiones deducidas anteriormente siguen siendo validas sustituyendo la\n",
    "función pupila P(x,y) por la función pupila generalizada P$_{Gen}$(x,y), la cual es una magnitud compleja.\n",
    "\n",
    "Una vez visto cómo introducir las aberraciones en la teoría difraccional de la imagen tenemos que\n",
    "describir la función de aberración W(x,y) así como introducir diferentes magnitudes que nos permitan\n",
    "medir la calidad de la imagen formada por un sistema.\n",
    "Existen diferentes métricas para cuantificar la calidad de imagen de un sistema óptico. Quizás la más\n",
    "sencilla sea aquella que mide en múltiplos de la longitud de onda la mayor separación entre el frente\n",
    "de ondas aberrado y el ideal. Sin embargo, aunque simple, esta métrica resulta de limitada utilidad al\n",
    "dar poca información del frente de ondas real. Por ejemplo un pequeño defecto puede dar lugar a un\n",
    "valor alto de esta separacion, mientras que su efecto sobre la imagen será muy limitado.\n",
    "En la presente práctica vamos a explorar dos métricas ampliamente utilizadas, la dispersión\n",
    "cuadratica media (RMS) del frente de onda y la razón de Strehl."
   ]
  },
  {
   "cell_type": "markdown",
   "metadata": {
    "collapsed": false
   },
   "source": [
    "# RMS"
   ]
  },
  {
   "cell_type": "markdown",
   "metadata": {
    "collapsed": false
   },
   "source": [
    "La dispersión cuadratica media $\\sigma$ da una medida global de la aberración de onda. En efecto, su expresión es la siguiente,\n",
    "\n",
    "$$\\sigma^2= < W^2(\\rho,\\theta) − <W(\\rho,\\theta)>^2 > = \\frac{1}{A} \\int \\int |W(\\rho,\\theta) − <W(\\rho,\\theta)>^2| d^2 \\rho$$\n",
    " \n",
    "\n",
    "Como vemos, utiliza los valores de la función aberración en todo punto. Esta magnitud nos da una medida estadítica de la distancia al frente de ondas ideal. \n"
   ]
  },
  {
   "cell_type": "markdown",
   "metadata": {
    "collapsed": false
   },
   "source": [
    "# Razón de Strehl"
   ]
  },
  {
   "cell_type": "markdown",
   "metadata": {
    "collapsed": false
   },
   "source": [
    "La razón de Strehl proporciona una métrica de la calidad de la imagen basada en la comparación\n",
    "entre la imagen obtenida por el sistema real y la que se obtendría teóricamente en ausencia de\n",
    "aberraciones. Se define por el cociente entre el máximo de la PSF del sistema con aberraciones y el\n",
    "máximo de la PSF del mismo sistema pero en ausencia de aberraciones. Es decir,\n",
    "\n",
    "$$Strehl = \\frac{max(PSF_{real})}{max(PSF_{ideal})}$$\n",
    "\n",
    "En el caso en que las aberraciones del sistema no degraden mucho la imagen, se puede demostrar que ambas magnitudes están relacionadas por la expresion,\n",
    "\n",
    "$$Strehl= \\exp [−( 2 \\pi RMS / \\lambda )^2 ]$$\n"
   ]
  },
  {
   "cell_type": "markdown",
   "metadata": {
    "collapsed": false
   },
   "source": [
    "# Polinomios de Zernike"
   ]
  },
  {
   "cell_type": "markdown",
   "metadata": {
    "collapsed": false
   },
   "source": [
    "La descripcion de la función W(x,y) se realiza normalmente mediante una expansion en serie de\n",
    "polinomios, cada uno de los cuales se atribuye a un tipo de aberración. Debido a la simetría circular\n",
    "de la mayoria de los sistemas ópticos usualmente estos polinomios se expresan en coordenadas\n",
    "polares ($\\rho, \\theta$) . Además, y con vistas a caracterizar la calidad óptica de la imagen, resulta\n",
    "conveniente utilizar una base de polinomios en la cual el cálculo de las métricas anteriormente vistas\n",
    "fuera sencillo. Estas condiciones se cumplen para los polinomios de Zernike.\n",
    "\n",
    "Aunque la expresión completa puede parecer difícil (vease por ejemplo en [esta página](http://scien.stanford.edu/pages/labsite/2003/psych221/projects/03/pmaeda/index.html)), su forma final no lo es. En la Tabla que se presenta a continuación se puede\n",
    "ver que expresiones toman, mientras que la figura mostrada en esta sección nos permite ver las superficies que definen.\n",
    "\n",
    "<table border=\"1\">\n",
    "<tr>\n",
    "<td>**j**</td>\n",
    "<td>**n**</td>\n",
    "<td>**m**</td>\n",
    "<td>**Expresión Zernike**</td>\n",
    "<td>**Tipo de aberración**</td>\n",
    "</tr>\n",
    "\n",
    "<tr>\n",
    "<td>0</td>\n",
    "<td>0</td>\n",
    "<td>0</td>\n",
    "<td>1</td>\n",
    "<td>Término constante</td>\n",
    "</tr>\n",
    "\n",
    "<tr>\n",
    "<td>1</td>\n",
    "<td>1</td>\n",
    "<td>-1</td>\n",
    "<td>$2 \\rho \\sin(\\theta)$</td>\n",
    "<td>Tilt</td>\n",
    "</tr>\n",
    "\n",
    "<tr>\n",
    "<td>2</td>\n",
    "<td>1</td>\n",
    "<td>1</td>\n",
    "<td>$2 \\rho \\cos(\\theta)$</td>\n",
    "<td>Tilt</td>\n",
    "</tr>\n",
    "\n",
    "<tr>\n",
    "<td>3</td>\n",
    "<td>2</td>\n",
    "<td>-2</td>\n",
    "<td>$\\sqrt{6}\\rho^2 \\sin(2 \\theta)$</td>\n",
    "<td>Astigmatismo</td>\n",
    "</tr>\n",
    "\n",
    "<tr>\n",
    "<td>4</td>\n",
    "<td>2</td>\n",
    "<td>0</td>\n",
    "<td>$\\sqrt{3}(2\\rho^2 -1)$</td>\n",
    "<td>Desenfoque</td>\n",
    "</tr>\n",
    "\n",
    "<tr>\n",
    "<td>5</td>\n",
    "<td>2</td>\n",
    "<td>2</td>\n",
    "<td>$\\sqrt{6}\\rho^2 \\cos(2 \\theta)$</td>\n",
    "<td>Astigmatismo</td>\n",
    "</tr>\n",
    "\n",
    "<tr>\n",
    "<td>6</td>\n",
    "<td>3</td>\n",
    "<td>-3</td>\n",
    "<td>$\\sqrt{8}\\rho^3 \\sin(3 \\theta)$</td>\n",
    "<td>Trefoil</td>\n",
    "</tr>\n",
    "\n",
    "<tr>\n",
    "<td>7</td>\n",
    "<td>3</td>\n",
    "<td>-1</td>\n",
    "<td>$\\sqrt{8}(3\\rho^3 - 2\\rho) \\sin(\\theta)$</td>\n",
    "<td>Coma</td>\n",
    "</tr>\n",
    "\n",
    "<tr>\n",
    "<td>8</td>\n",
    "<td>3</td>\n",
    "<td>1</td>\n",
    "<td>$\\sqrt{8}(3\\rho^3 - 2\\rho) \\cos(\\theta)$</td>\n",
    "<td>Coma</td>\n",
    "</tr>\n",
    "\n",
    "<tr>\n",
    "<td>9</td>\n",
    "<td>3</td>\n",
    "<td>3</td>\n",
    "<td>$\\sqrt{8}\\rho^3 \\cos(3 \\theta)$</td>\n",
    "<td>Trefoil</td>\n",
    "</tr>\n",
    "\n",
    "<tr>\n",
    "<td>10</td>\n",
    "<td>4</td>\n",
    "<td>-4</td>\n",
    "<td>$\\sqrt{10}\\rho^4 \\sin(4\\theta)$</td>\n",
    "<td>Quadrafoil</td>\n",
    "</tr>\n",
    "\n",
    "<tr>\n",
    "<td>11</td>\n",
    "<td>4</td>\n",
    "<td>-2</td>\n",
    "<td>$\\sqrt{10}(4\\rho^4 - 3\\rho^2) \\sin(2\\theta)$</td>\n",
    "<td>Astigamtismo secundario</td>\n",
    "</tr>\n",
    "\n",
    "<tr>\n",
    "<td>12</td>\n",
    "<td>4</td>\n",
    "<td>0</td>\n",
    "<td>$\\sqrt{5}(6\\rho^4 - 6\\rho^2 +1)$</td>\n",
    "<td>Esférica</td>\n",
    "</tr>\n",
    "<tr>\n",
    "<td>13</td>\n",
    "<td>4</td>\n",
    "<td>2</td>\n",
    "<td>$\\sqrt{10}(4\\rho^4 - 3\\rho^2) \\cos(2\\theta)$</td>\n",
    "<td>Astigmatismo secundario</td>\n",
    "</tr>\n",
    "\n",
    "<tr>\n",
    "<td>14</td>\n",
    "<td>4</td>\n",
    "<td>4</td>\n",
    "<td>$\\sqrt{10}\\rho^4 \\cos(4\\theta)$</td>\n",
    "<td>Quadrafoil</td>\n",
    "\n",
    "</table> \n",
    "\n",
    "Aparte de con\n",
    "los valores de n y m, los polinomios de Zernike se pueden denotar únicamente con un subindice j. La\n",
    "relacion entre j y el par (n,m) viene dada por la siguiente expresion,\n",
    "\n",
    "$$j = \\frac{n(n+2) + m}{2}$$\n",
    "\n",
    "![Polinomios de Zernike](500px-ZernikePolynome6.svg.png)\n",
    "\n",
    "\n",
    "Estos polinomios forman una base completa ortogonal en el círculo unidad. Esto quiere decir que\n",
    "cualquier función en el plano puede ser desarrollada como una suma de polinomios de Zernike.\n",
    "Además, su media es nula y su varianza ( $\\sigma^2$) es igual a 1. Estas dos últimas propiedades tienen\n",
    "como consecuencia que el cálculo de la RMS resulte muy sencillo con estos polinomios. En efecto se\n",
    "puede demostrar que si la función aberración $W(\\rho,\\theta)$ tiene un desarrollo del tipo,\n",
    "\n",
    "$$ W(\\rho,\\theta)= c_0 Z_0 + c_1 Z_1 +c_2 Z_2 + \\ldots = \\sum_i c_i Z_i$$\n",
    "\n",
    "el cálculo de la RMS vendrá dado únicamente por la expresión, $RMS= \\sqrt{\\sum_i c_i^2}$. \n",
    "\n",
    "En el desarrollo de $W(\\rho,\\theta)$, los coeficientes $c_i$ tienen unidades de longitud y se denominan\n",
    "coeficientes de aberración.\n",
    "\n",
    "Para saber más:\n",
    "\n",
    "[Página de la Universidad de Standford sobre Polinomios de Zernike](http://scien.stanford.edu/pages/labsite/2003/psych221/projects/03/pmaeda/index.html)\n",
    "\n",
    "[Página de Wofram Mathworld sobre las propiedades de los Polinomios de Zernike](http://mathworld.wolfram.com/ZernikePolynomial.html)\n",
    "\n"
   ]
  },
  {
   "cell_type": "code",
   "execution_count": 0,
   "metadata": {
    "collapsed": false
   },
   "outputs": [
   ],
   "source": [
   ]
  }
 ],
 "metadata": {
  "kernelspec": {
   "display_name": "Python 3 (Anaconda)",
   "language": "python",
   "name": "anaconda3"
  },
  "language_info": {
   "codemirror_mode": {
    "name": "ipython",
    "version": 3
   },
   "file_extension": ".py",
   "mimetype": "text/x-python",
   "name": "python",
   "nbconvert_exporter": "python",
   "pygments_lexer": "ipython3",
   "version": "3.5.3"
  },
  "name": "",
  "signature": "sha256:10e653bb8e0cba5ea3e10c00e9bbabed99cef2dde0650bada69600ad2984dd57"
 },
 "nbformat": 4,
 "nbformat_minor": 0
}